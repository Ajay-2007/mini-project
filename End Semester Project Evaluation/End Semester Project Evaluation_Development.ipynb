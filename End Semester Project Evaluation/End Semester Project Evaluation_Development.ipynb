{
 "cells": [
  {
   "cell_type": "code",
   "execution_count": 127,
   "metadata": {
    "ExecuteTime": {
     "end_time": "2019-10-26T10:16:10.609581Z",
     "start_time": "2019-10-26T10:16:10.603586Z"
    }
   },
   "outputs": [],
   "source": [
    "import pandas as pd\n",
    "import seaborn as sns\n",
    "from nltk import FreqDist\n",
    "from nltk.corpus import stopwords"
   ]
  },
  {
   "cell_type": "code",
   "execution_count": 128,
   "metadata": {
    "ExecuteTime": {
     "end_time": "2019-10-26T10:16:10.862505Z",
     "start_time": "2019-10-26T10:16:10.613578Z"
    }
   },
   "outputs": [],
   "source": [
    "dataset = pd.read_csv('dataset.csv')"
   ]
  },
  {
   "cell_type": "code",
   "execution_count": 129,
   "metadata": {
    "ExecuteTime": {
     "end_time": "2019-10-26T10:16:11.093305Z",
     "start_time": "2019-10-26T10:16:10.867436Z"
    }
   },
   "outputs": [
    {
     "data": {
      "text/html": [
       "<div>\n",
       "<style scoped>\n",
       "    .dataframe tbody tr th:only-of-type {\n",
       "        vertical-align: middle;\n",
       "    }\n",
       "\n",
       "    .dataframe tbody tr th {\n",
       "        vertical-align: top;\n",
       "    }\n",
       "\n",
       "    .dataframe thead th {\n",
       "        text-align: right;\n",
       "    }\n",
       "</style>\n",
       "<table border=\"1\" class=\"dataframe\">\n",
       "  <thead>\n",
       "    <tr style=\"text-align: right;\">\n",
       "      <th></th>\n",
       "      <th>questions</th>\n",
       "      <th>year</th>\n",
       "      <th>topic</th>\n",
       "    </tr>\n",
       "  </thead>\n",
       "  <tbody>\n",
       "    <tr>\n",
       "      <td>0</td>\n",
       "      <td>The ratio of mass percent of C and H of anorga...</td>\n",
       "      <td>2018.0</td>\n",
       "      <td>alkane</td>\n",
       "    </tr>\n",
       "    <tr>\n",
       "      <td>1</td>\n",
       "      <td>Which type of ‘defect’ has the presence ofcati...</td>\n",
       "      <td>2018.0</td>\n",
       "      <td>solid state</td>\n",
       "    </tr>\n",
       "    <tr>\n",
       "      <td>2</td>\n",
       "      <td>According to molecular orbital theorywhich of ...</td>\n",
       "      <td>2018.0</td>\n",
       "      <td>chemical_bonding</td>\n",
       "    </tr>\n",
       "    <tr>\n",
       "      <td>3</td>\n",
       "      <td>Which of the following lines correctly showthe...</td>\n",
       "      <td>2018.0</td>\n",
       "      <td>chemical_equilibrium</td>\n",
       "    </tr>\n",
       "    <tr>\n",
       "      <td>4</td>\n",
       "      <td>The combustion of benzene (l) gives CO2(g)and ...</td>\n",
       "      <td>2018.0</td>\n",
       "      <td>thermodynamics</td>\n",
       "    </tr>\n",
       "    <tr>\n",
       "      <td>5</td>\n",
       "      <td>For 1 molal aqueous solution of thefollowing c...</td>\n",
       "      <td>2018.0</td>\n",
       "      <td>solutions</td>\n",
       "    </tr>\n",
       "    <tr>\n",
       "      <td>6</td>\n",
       "      <td>An aqueous solution contains 010 M H2Sand 020 ...</td>\n",
       "      <td>2018.0</td>\n",
       "      <td>chemical_equilibrium</td>\n",
       "    </tr>\n",
       "    <tr>\n",
       "      <td>7</td>\n",
       "      <td>An aqueous solution contains an unknownconcen...</td>\n",
       "      <td>2018.0</td>\n",
       "      <td>chemical_equilibrium</td>\n",
       "    </tr>\n",
       "    <tr>\n",
       "      <td>8</td>\n",
       "      <td>At 5188 C the rate of decomposition of asample...</td>\n",
       "      <td>2018.0</td>\n",
       "      <td>chemical_kinetics</td>\n",
       "    </tr>\n",
       "    <tr>\n",
       "      <td>9</td>\n",
       "      <td>How long (approximate) should water beelectrol...</td>\n",
       "      <td>2018.0</td>\n",
       "      <td>electrolysis</td>\n",
       "    </tr>\n",
       "    <tr>\n",
       "      <td>10</td>\n",
       "      <td>The recommended concentration offluoride ion i...</td>\n",
       "      <td>2018.0</td>\n",
       "      <td>cordination_compounds</td>\n",
       "    </tr>\n",
       "    <tr>\n",
       "      <td>11</td>\n",
       "      <td>Which of the following compoundscontain(s) no ...</td>\n",
       "      <td>2018.0</td>\n",
       "      <td>chemical_bonding</td>\n",
       "    </tr>\n",
       "    <tr>\n",
       "      <td>12</td>\n",
       "      <td>Which of the following are Lewis acids</td>\n",
       "      <td>2018.0</td>\n",
       "      <td>acidsbase_and_salts</td>\n",
       "    </tr>\n",
       "    <tr>\n",
       "      <td>13</td>\n",
       "      <td>Total number of lone pair of electrons in 3I− ...</td>\n",
       "      <td>2018.0</td>\n",
       "      <td>p_blocks_elements</td>\n",
       "    </tr>\n",
       "    <tr>\n",
       "      <td>14</td>\n",
       "      <td>Which of the following salts is the mostbasic ...</td>\n",
       "      <td>2018.0</td>\n",
       "      <td>acidsbase_and_salts</td>\n",
       "    </tr>\n",
       "    <tr>\n",
       "      <td>15</td>\n",
       "      <td>Hydrogen peroxide oxidises [Fe(CN)6]4−to [Fe(C...</td>\n",
       "      <td>2018.0</td>\n",
       "      <td>metallurgy</td>\n",
       "    </tr>\n",
       "    <tr>\n",
       "      <td>16</td>\n",
       "      <td>The oxidation states ofCr in [Cr(H2O)6]Cl3 [Cr...</td>\n",
       "      <td>2018.0</td>\n",
       "      <td>coordination_compounds</td>\n",
       "    </tr>\n",
       "    <tr>\n",
       "      <td>17</td>\n",
       "      <td>When metal ‘M’ is treated with NaOH awhite gel...</td>\n",
       "      <td>2018.0</td>\n",
       "      <td>p_blocks_elements</td>\n",
       "    </tr>\n",
       "    <tr>\n",
       "      <td>19</td>\n",
       "      <td>Consider the following reaction andstatements ...</td>\n",
       "      <td>2018.0</td>\n",
       "      <td>cordination_compounds</td>\n",
       "    </tr>\n",
       "    <tr>\n",
       "      <td>20</td>\n",
       "      <td>Glucose on prolonged heating with HI gives</td>\n",
       "      <td>2018.0</td>\n",
       "      <td>biomolecules</td>\n",
       "    </tr>\n",
       "    <tr>\n",
       "      <td>21</td>\n",
       "      <td>The trans-alkenes are formed by thereduction o...</td>\n",
       "      <td>2018.0</td>\n",
       "      <td>hydrocarbons</td>\n",
       "    </tr>\n",
       "    <tr>\n",
       "      <td>22</td>\n",
       "      <td>Which of the following compounds willbe suitab...</td>\n",
       "      <td>2018.0</td>\n",
       "      <td>p_block</td>\n",
       "    </tr>\n",
       "    <tr>\n",
       "      <td>23</td>\n",
       "      <td>Phenol on treatment with CO2 in thepresence of...</td>\n",
       "      <td>2018.0</td>\n",
       "      <td>alcohalphenol_and_ether</td>\n",
       "    </tr>\n",
       "    <tr>\n",
       "      <td>24</td>\n",
       "      <td>An alkali is titrated against an acid withmeth...</td>\n",
       "      <td>2018.0</td>\n",
       "      <td>titration</td>\n",
       "    </tr>\n",
       "    <tr>\n",
       "      <td>25</td>\n",
       "      <td>The predominant form of histaminepresent in hu...</td>\n",
       "      <td>2018.0</td>\n",
       "      <td>chemistry_in_everyday_in_life</td>\n",
       "    </tr>\n",
       "    <tr>\n",
       "      <td>26</td>\n",
       "      <td>Phenol reacts with methyl chloroformatein the ...</td>\n",
       "      <td>2018.0</td>\n",
       "      <td>alcohalphenol_and_ether</td>\n",
       "    </tr>\n",
       "    <tr>\n",
       "      <td>27</td>\n",
       "      <td>The increasing order of basicity of the follow...</td>\n",
       "      <td>2018.0</td>\n",
       "      <td>acid_base_salts</td>\n",
       "    </tr>\n",
       "    <tr>\n",
       "      <td>28</td>\n",
       "      <td>The major product formed in the following reac...</td>\n",
       "      <td>2018.0</td>\n",
       "      <td>alcohalphenol_and_ether</td>\n",
       "    </tr>\n",
       "    <tr>\n",
       "      <td>29</td>\n",
       "      <td>The major product of the following reaction is</td>\n",
       "      <td>2018.0</td>\n",
       "      <td>alcohalphenol_and_ether</td>\n",
       "    </tr>\n",
       "  </tbody>\n",
       "</table>\n",
       "</div>"
      ],
      "text/plain": [
       "                                            questions    year  \\\n",
       "0   The ratio of mass percent of C and H of anorga...  2018.0   \n",
       "1   Which type of ‘defect’ has the presence ofcati...  2018.0   \n",
       "2   According to molecular orbital theorywhich of ...  2018.0   \n",
       "3   Which of the following lines correctly showthe...  2018.0   \n",
       "4   The combustion of benzene (l) gives CO2(g)and ...  2018.0   \n",
       "5   For 1 molal aqueous solution of thefollowing c...  2018.0   \n",
       "6   An aqueous solution contains 010 M H2Sand 020 ...  2018.0   \n",
       "7    An aqueous solution contains an unknownconcen...  2018.0   \n",
       "8   At 5188 C the rate of decomposition of asample...  2018.0   \n",
       "9   How long (approximate) should water beelectrol...  2018.0   \n",
       "10  The recommended concentration offluoride ion i...  2018.0   \n",
       "11  Which of the following compoundscontain(s) no ...  2018.0   \n",
       "12            Which of the following are Lewis acids   2018.0   \n",
       "13  Total number of lone pair of electrons in 3I− ...  2018.0   \n",
       "14  Which of the following salts is the mostbasic ...  2018.0   \n",
       "15  Hydrogen peroxide oxidises [Fe(CN)6]4−to [Fe(C...  2018.0   \n",
       "16  The oxidation states ofCr in [Cr(H2O)6]Cl3 [Cr...  2018.0   \n",
       "17  When metal ‘M’ is treated with NaOH awhite gel...  2018.0   \n",
       "19  Consider the following reaction andstatements ...  2018.0   \n",
       "20         Glucose on prolonged heating with HI gives  2018.0   \n",
       "21  The trans-alkenes are formed by thereduction o...  2018.0   \n",
       "22  Which of the following compounds willbe suitab...  2018.0   \n",
       "23  Phenol on treatment with CO2 in thepresence of...  2018.0   \n",
       "24  An alkali is titrated against an acid withmeth...  2018.0   \n",
       "25  The predominant form of histaminepresent in hu...  2018.0   \n",
       "26  Phenol reacts with methyl chloroformatein the ...  2018.0   \n",
       "27  The increasing order of basicity of the follow...  2018.0   \n",
       "28  The major product formed in the following reac...  2018.0   \n",
       "29    The major product of the following reaction is   2018.0   \n",
       "\n",
       "                            topic  \n",
       "0                          alkane  \n",
       "1                     solid state  \n",
       "2                chemical_bonding  \n",
       "3            chemical_equilibrium  \n",
       "4                  thermodynamics  \n",
       "5                       solutions  \n",
       "6            chemical_equilibrium  \n",
       "7            chemical_equilibrium  \n",
       "8               chemical_kinetics  \n",
       "9                    electrolysis  \n",
       "10          cordination_compounds  \n",
       "11               chemical_bonding  \n",
       "12            acidsbase_and_salts  \n",
       "13              p_blocks_elements  \n",
       "14            acidsbase_and_salts  \n",
       "15                     metallurgy  \n",
       "16         coordination_compounds  \n",
       "17              p_blocks_elements  \n",
       "19          cordination_compounds  \n",
       "20                   biomolecules  \n",
       "21                   hydrocarbons  \n",
       "22                        p_block  \n",
       "23        alcohalphenol_and_ether  \n",
       "24                      titration  \n",
       "25  chemistry_in_everyday_in_life  \n",
       "26        alcohalphenol_and_ether  \n",
       "27                acid_base_salts  \n",
       "28        alcohalphenol_and_ether  \n",
       "29        alcohalphenol_and_ether  "
      ]
     },
     "execution_count": 129,
     "metadata": {},
     "output_type": "execute_result"
    }
   ],
   "source": [
    "dataset.dtypes\n",
    "dataset = dataset.dropna()\n",
    "dataset"
   ]
  },
  {
   "cell_type": "code",
   "execution_count": 130,
   "metadata": {
    "ExecuteTime": {
     "end_time": "2019-10-26T10:16:11.289191Z",
     "start_time": "2019-10-26T10:16:11.097321Z"
    }
   },
   "outputs": [],
   "source": [
    "# dataset = dataset.astype({'questions' : 'object', 'year' : 'int', 'topic' : 'object'})"
   ]
  },
  {
   "cell_type": "code",
   "execution_count": 131,
   "metadata": {
    "ExecuteTime": {
     "end_time": "2019-10-26T10:16:11.479103Z",
     "start_time": "2019-10-26T10:16:11.292189Z"
    }
   },
   "outputs": [],
   "source": [
    "dataset.head()\n",
    "dataset['year'] = dataset['year'].apply(np.int64)\n",
    "# dataset['year'] = dataset['year'].astype(np.int)"
   ]
  },
  {
   "cell_type": "code",
   "execution_count": null,
   "metadata": {
    "ExecuteTime": {
     "end_time": "2019-10-26T09:49:39.090971Z",
     "start_time": "2019-10-26T09:49:38.913056Z"
    }
   },
   "outputs": [],
   "source": []
  },
  {
   "cell_type": "code",
   "execution_count": 132,
   "metadata": {
    "ExecuteTime": {
     "end_time": "2019-10-26T10:16:11.738936Z",
     "start_time": "2019-10-26T10:16:11.482084Z"
    }
   },
   "outputs": [
    {
     "data": {
      "text/html": [
       "<div>\n",
       "<style scoped>\n",
       "    .dataframe tbody tr th:only-of-type {\n",
       "        vertical-align: middle;\n",
       "    }\n",
       "\n",
       "    .dataframe tbody tr th {\n",
       "        vertical-align: top;\n",
       "    }\n",
       "\n",
       "    .dataframe thead th {\n",
       "        text-align: right;\n",
       "    }\n",
       "</style>\n",
       "<table border=\"1\" class=\"dataframe\">\n",
       "  <thead>\n",
       "    <tr style=\"text-align: right;\">\n",
       "      <th></th>\n",
       "      <th>questions</th>\n",
       "      <th>year</th>\n",
       "      <th>topic</th>\n",
       "    </tr>\n",
       "  </thead>\n",
       "  <tbody>\n",
       "    <tr>\n",
       "      <td>0</td>\n",
       "      <td>The ratio of mass percent of C and H of anorga...</td>\n",
       "      <td>2018</td>\n",
       "      <td>alkane</td>\n",
       "    </tr>\n",
       "    <tr>\n",
       "      <td>1</td>\n",
       "      <td>Which type of ‘defect’ has the presence ofcati...</td>\n",
       "      <td>2018</td>\n",
       "      <td>solid state</td>\n",
       "    </tr>\n",
       "    <tr>\n",
       "      <td>2</td>\n",
       "      <td>According to molecular orbital theorywhich of ...</td>\n",
       "      <td>2018</td>\n",
       "      <td>chemical_bonding</td>\n",
       "    </tr>\n",
       "    <tr>\n",
       "      <td>3</td>\n",
       "      <td>Which of the following lines correctly showthe...</td>\n",
       "      <td>2018</td>\n",
       "      <td>chemical_equilibrium</td>\n",
       "    </tr>\n",
       "    <tr>\n",
       "      <td>4</td>\n",
       "      <td>The combustion of benzene (l) gives CO2(g)and ...</td>\n",
       "      <td>2018</td>\n",
       "      <td>thermodynamics</td>\n",
       "    </tr>\n",
       "    <tr>\n",
       "      <td>5</td>\n",
       "      <td>For 1 molal aqueous solution of thefollowing c...</td>\n",
       "      <td>2018</td>\n",
       "      <td>solutions</td>\n",
       "    </tr>\n",
       "    <tr>\n",
       "      <td>6</td>\n",
       "      <td>An aqueous solution contains 010 M H2Sand 020 ...</td>\n",
       "      <td>2018</td>\n",
       "      <td>chemical_equilibrium</td>\n",
       "    </tr>\n",
       "    <tr>\n",
       "      <td>7</td>\n",
       "      <td>An aqueous solution contains an unknownconcen...</td>\n",
       "      <td>2018</td>\n",
       "      <td>chemical_equilibrium</td>\n",
       "    </tr>\n",
       "    <tr>\n",
       "      <td>8</td>\n",
       "      <td>At 5188 C the rate of decomposition of asample...</td>\n",
       "      <td>2018</td>\n",
       "      <td>chemical_kinetics</td>\n",
       "    </tr>\n",
       "    <tr>\n",
       "      <td>9</td>\n",
       "      <td>How long (approximate) should water beelectrol...</td>\n",
       "      <td>2018</td>\n",
       "      <td>electrolysis</td>\n",
       "    </tr>\n",
       "    <tr>\n",
       "      <td>10</td>\n",
       "      <td>The recommended concentration offluoride ion i...</td>\n",
       "      <td>2018</td>\n",
       "      <td>cordination_compounds</td>\n",
       "    </tr>\n",
       "    <tr>\n",
       "      <td>11</td>\n",
       "      <td>Which of the following compoundscontain(s) no ...</td>\n",
       "      <td>2018</td>\n",
       "      <td>chemical_bonding</td>\n",
       "    </tr>\n",
       "    <tr>\n",
       "      <td>12</td>\n",
       "      <td>Which of the following are Lewis acids</td>\n",
       "      <td>2018</td>\n",
       "      <td>acidsbase_and_salts</td>\n",
       "    </tr>\n",
       "    <tr>\n",
       "      <td>13</td>\n",
       "      <td>Total number of lone pair of electrons in 3I− ...</td>\n",
       "      <td>2018</td>\n",
       "      <td>p_blocks_elements</td>\n",
       "    </tr>\n",
       "    <tr>\n",
       "      <td>14</td>\n",
       "      <td>Which of the following salts is the mostbasic ...</td>\n",
       "      <td>2018</td>\n",
       "      <td>acidsbase_and_salts</td>\n",
       "    </tr>\n",
       "    <tr>\n",
       "      <td>15</td>\n",
       "      <td>Hydrogen peroxide oxidises [Fe(CN)6]4−to [Fe(C...</td>\n",
       "      <td>2018</td>\n",
       "      <td>metallurgy</td>\n",
       "    </tr>\n",
       "    <tr>\n",
       "      <td>16</td>\n",
       "      <td>The oxidation states ofCr in [Cr(H2O)6]Cl3 [Cr...</td>\n",
       "      <td>2018</td>\n",
       "      <td>coordination_compounds</td>\n",
       "    </tr>\n",
       "    <tr>\n",
       "      <td>17</td>\n",
       "      <td>When metal ‘M’ is treated with NaOH awhite gel...</td>\n",
       "      <td>2018</td>\n",
       "      <td>p_blocks_elements</td>\n",
       "    </tr>\n",
       "    <tr>\n",
       "      <td>19</td>\n",
       "      <td>Consider the following reaction andstatements ...</td>\n",
       "      <td>2018</td>\n",
       "      <td>cordination_compounds</td>\n",
       "    </tr>\n",
       "    <tr>\n",
       "      <td>20</td>\n",
       "      <td>Glucose on prolonged heating with HI gives</td>\n",
       "      <td>2018</td>\n",
       "      <td>biomolecules</td>\n",
       "    </tr>\n",
       "    <tr>\n",
       "      <td>21</td>\n",
       "      <td>The trans-alkenes are formed by thereduction o...</td>\n",
       "      <td>2018</td>\n",
       "      <td>hydrocarbons</td>\n",
       "    </tr>\n",
       "    <tr>\n",
       "      <td>22</td>\n",
       "      <td>Which of the following compounds willbe suitab...</td>\n",
       "      <td>2018</td>\n",
       "      <td>p_block</td>\n",
       "    </tr>\n",
       "    <tr>\n",
       "      <td>23</td>\n",
       "      <td>Phenol on treatment with CO2 in thepresence of...</td>\n",
       "      <td>2018</td>\n",
       "      <td>alcohalphenol_and_ether</td>\n",
       "    </tr>\n",
       "    <tr>\n",
       "      <td>24</td>\n",
       "      <td>An alkali is titrated against an acid withmeth...</td>\n",
       "      <td>2018</td>\n",
       "      <td>titration</td>\n",
       "    </tr>\n",
       "    <tr>\n",
       "      <td>25</td>\n",
       "      <td>The predominant form of histaminepresent in hu...</td>\n",
       "      <td>2018</td>\n",
       "      <td>chemistry_in_everyday_in_life</td>\n",
       "    </tr>\n",
       "    <tr>\n",
       "      <td>26</td>\n",
       "      <td>Phenol reacts with methyl chloroformatein the ...</td>\n",
       "      <td>2018</td>\n",
       "      <td>alcohalphenol_and_ether</td>\n",
       "    </tr>\n",
       "    <tr>\n",
       "      <td>27</td>\n",
       "      <td>The increasing order of basicity of the follow...</td>\n",
       "      <td>2018</td>\n",
       "      <td>acid_base_salts</td>\n",
       "    </tr>\n",
       "    <tr>\n",
       "      <td>28</td>\n",
       "      <td>The major product formed in the following reac...</td>\n",
       "      <td>2018</td>\n",
       "      <td>alcohalphenol_and_ether</td>\n",
       "    </tr>\n",
       "    <tr>\n",
       "      <td>29</td>\n",
       "      <td>The major product of the following reaction is</td>\n",
       "      <td>2018</td>\n",
       "      <td>alcohalphenol_and_ether</td>\n",
       "    </tr>\n",
       "  </tbody>\n",
       "</table>\n",
       "</div>"
      ],
      "text/plain": [
       "                                            questions  year  \\\n",
       "0   The ratio of mass percent of C and H of anorga...  2018   \n",
       "1   Which type of ‘defect’ has the presence ofcati...  2018   \n",
       "2   According to molecular orbital theorywhich of ...  2018   \n",
       "3   Which of the following lines correctly showthe...  2018   \n",
       "4   The combustion of benzene (l) gives CO2(g)and ...  2018   \n",
       "5   For 1 molal aqueous solution of thefollowing c...  2018   \n",
       "6   An aqueous solution contains 010 M H2Sand 020 ...  2018   \n",
       "7    An aqueous solution contains an unknownconcen...  2018   \n",
       "8   At 5188 C the rate of decomposition of asample...  2018   \n",
       "9   How long (approximate) should water beelectrol...  2018   \n",
       "10  The recommended concentration offluoride ion i...  2018   \n",
       "11  Which of the following compoundscontain(s) no ...  2018   \n",
       "12            Which of the following are Lewis acids   2018   \n",
       "13  Total number of lone pair of electrons in 3I− ...  2018   \n",
       "14  Which of the following salts is the mostbasic ...  2018   \n",
       "15  Hydrogen peroxide oxidises [Fe(CN)6]4−to [Fe(C...  2018   \n",
       "16  The oxidation states ofCr in [Cr(H2O)6]Cl3 [Cr...  2018   \n",
       "17  When metal ‘M’ is treated with NaOH awhite gel...  2018   \n",
       "19  Consider the following reaction andstatements ...  2018   \n",
       "20         Glucose on prolonged heating with HI gives  2018   \n",
       "21  The trans-alkenes are formed by thereduction o...  2018   \n",
       "22  Which of the following compounds willbe suitab...  2018   \n",
       "23  Phenol on treatment with CO2 in thepresence of...  2018   \n",
       "24  An alkali is titrated against an acid withmeth...  2018   \n",
       "25  The predominant form of histaminepresent in hu...  2018   \n",
       "26  Phenol reacts with methyl chloroformatein the ...  2018   \n",
       "27  The increasing order of basicity of the follow...  2018   \n",
       "28  The major product formed in the following reac...  2018   \n",
       "29    The major product of the following reaction is   2018   \n",
       "\n",
       "                            topic  \n",
       "0                          alkane  \n",
       "1                     solid state  \n",
       "2                chemical_bonding  \n",
       "3            chemical_equilibrium  \n",
       "4                  thermodynamics  \n",
       "5                       solutions  \n",
       "6            chemical_equilibrium  \n",
       "7            chemical_equilibrium  \n",
       "8               chemical_kinetics  \n",
       "9                    electrolysis  \n",
       "10          cordination_compounds  \n",
       "11               chemical_bonding  \n",
       "12            acidsbase_and_salts  \n",
       "13              p_blocks_elements  \n",
       "14            acidsbase_and_salts  \n",
       "15                     metallurgy  \n",
       "16         coordination_compounds  \n",
       "17              p_blocks_elements  \n",
       "19          cordination_compounds  \n",
       "20                   biomolecules  \n",
       "21                   hydrocarbons  \n",
       "22                        p_block  \n",
       "23        alcohalphenol_and_ether  \n",
       "24                      titration  \n",
       "25  chemistry_in_everyday_in_life  \n",
       "26        alcohalphenol_and_ether  \n",
       "27                acid_base_salts  \n",
       "28        alcohalphenol_and_ether  \n",
       "29        alcohalphenol_and_ether  "
      ]
     },
     "execution_count": 132,
     "metadata": {},
     "output_type": "execute_result"
    }
   ],
   "source": [
    "dataset\n",
    "dataset.dtypes\n",
    "dataset"
   ]
  },
  {
   "cell_type": "code",
   "execution_count": 133,
   "metadata": {
    "ExecuteTime": {
     "end_time": "2019-10-26T10:16:12.061781Z",
     "start_time": "2019-10-26T10:16:11.743932Z"
    }
   },
   "outputs": [],
   "source": [
    "from nltk.tokenize import word_tokenize\n",
    "from nltk.stem.porter import PorterStemmer\n",
    "from nltk.stem.snowball import SnowballStemmer"
   ]
  },
  {
   "cell_type": "code",
   "execution_count": 134,
   "metadata": {
    "ExecuteTime": {
     "end_time": "2019-10-26T10:16:12.277693Z",
     "start_time": "2019-10-26T10:16:12.066750Z"
    }
   },
   "outputs": [],
   "source": [
    "def plot_word_frequency(words, top_n=10):\n",
    "    word_freq = FreqDist(words)\n",
    "    labels = [element[0] for element in word_freq.most_common(top_n)]\n",
    "    counts = [element[1] for element in word_freq.most_common(top_n)]\n",
    "    plot = sns.barplot(labels, counts)\n",
    "    return plot"
   ]
  },
  {
   "cell_type": "code",
   "execution_count": 135,
   "metadata": {
    "ExecuteTime": {
     "end_time": "2019-10-26T10:16:12.465530Z",
     "start_time": "2019-10-26T10:16:12.281624Z"
    }
   },
   "outputs": [],
   "source": [
    "words = list(dataset.questions)\n",
    "string = \" \".join(words)\n",
    "# string = \"\"\n",
    "# for word in words:\n",
    "#     string += word + \" \"\n"
   ]
  },
  {
   "cell_type": "code",
   "execution_count": 136,
   "metadata": {
    "ExecuteTime": {
     "end_time": "2019-10-26T10:16:12.634424Z",
     "start_time": "2019-10-26T10:16:12.468515Z"
    }
   },
   "outputs": [
    {
     "data": {
      "text/plain": [
       "'The ratio of mass percent of C and H of anorganic compound (CXHYOZ) is 6 : 1 Ifone molecule of the above compound(CXHYOZ) contains half as much oxygenas required to burn one molecule ofcompound CXHY completely to CO2 andH2O The empirical formula of compoundCXHYOZ is Which type of ‘defect’ has the presence ofcations in the interstitial sites  According to molecular orbital theorywhich of the following will not be a viable molecule  Which of the following lines correctly showthe temperature dependence ofequilibrium constant  K  for an exothermicreaction  The combustion of benzene (l) gives CO2(g)and H2O(l) Given that heat of combustionof benzene at constant volume is−32639 kJ mol−1 at 258 C; heat ofcombustion (in kJ mol−1) of benzene atconstant pressure will be :(R=8314 JK−1 mol−1) For 1 molal aqueous solution of thefollowing compounds which one willshow the highest freezing point  An aqueous solution contains 010 M H2Sand 020 M HCl If the equilibriumconstants for the formation of HS− from H2S is 10×10−7 and that of S2− fromHS− ions is 12×10−13 then theconcentration of S2− ions in aqueoussolution is  An aqueous solution contains an unknownconcentration of Ba2+ When 50 mL of a1 M solution of Na2SO4 is added BaSO4just begins to precipitate The final volumeis 500 mL The solubility product of BaSO4is 1×10−10 What is the originalconcentration of Ba2+  At 5188 C the rate of decomposition of asample of gaseous acetaldehyde initiallyat a pressure of 363 Torr was100 Torr s−1 when 5% had reacted and05 Torr s−1 when 33% had reacted Theorder of the reaction is How long (approximate) should water beelectrolysed by passing through100 amperes current so that the oxygenreleased can completely burn 2766 g ofdiborane (Atomic weight of B=108 u) The recommended concentration offluoride ion in drinking water is up to1 ppm as fluoride ion is required to maketeeth enamel harder by converting[3Ca3(PO4)2⋅Ca(OH)2] to Which of the following compoundscontain(s) no covalent bond(s) KCl PH3 O2 B2H6 H2SO4 Which of the following are Lewis acids  Total number of lone pair of electrons in 3I− ion is Which of the following salts is the mostbasic in aqueous solution Hydrogen peroxide oxidises [Fe(CN)6]4−to [Fe(CN)6]3− in acidic medium butreduces [Fe(CN)6]3− to [Fe(CN)6]4− inalkaline medium The other productsformed are respectively The oxidation states ofCr in [Cr(H2O)6]Cl3 [Cr(C6H6)2] andK2[Cr(CN)2(O)2(O2)(NH3)] respectively are When metal ‘M’ is treated with NaOH awhite gelatinous precipitate ‘X’ is obtainedwhich is soluble in excess of NaOHCompound ’X’ when heated strongly givesan oxide which is used in chromatographyas an adsorbent The metal ‘M’ is Consider the following reaction andstatements : [Co(NH3)4Br2]++Br−→[Co(NH3)3Br3]+NH3(I) Two isomers are produced if thereactant complex ion is a cis-isomer(II) Two isomers are produced if thereactant complex ion is a transisomer(III) Only one isomer is produced if thereactant complex ion is a transisomer(IV) Only one isomer is produced if thereactant complex ion is a cis-isomerThe correct statements are Glucose on prolonged heating with HI gives The trans-alkenes are formed by thereduction of alkynes with Which of the following compounds willbe suitable for Kjeldahl’s method for nitrogen estimation Phenol on treatment with CO2 in thepresence of NaOH followed byacidification produces compound X as themajor product X on treatment with(CH3CO)2O in the presence of catalyticamount of H2SO4 produces An alkali is titrated against an acid withmethyl orange as indicator which of thefollowing is a correct combination The predominant form of histaminepresent in human blood is (pKaHistidine=60) Phenol reacts with methyl chloroformatein the presence of NaOH to form productA A reacts with Br2 to form product BA and B are respectively The increasing order of basicity of the following compounds is The major product formed in the following reaction is     The major product of the following reaction is '"
      ]
     },
     "execution_count": 136,
     "metadata": {},
     "output_type": "execute_result"
    }
   ],
   "source": [
    "string"
   ]
  },
  {
   "cell_type": "code",
   "execution_count": 137,
   "metadata": {
    "ExecuteTime": {
     "end_time": "2019-10-26T10:16:13.491928Z",
     "start_time": "2019-10-26T10:16:12.638418Z"
    }
   },
   "outputs": [
    {
     "data": {
      "text/plain": [
       "<matplotlib.axes._subplots.AxesSubplot at 0x158195f0>"
      ]
     },
     "execution_count": 137,
     "metadata": {},
     "output_type": "execute_result"
    },
    {
     "data": {
      "image/png": "[encoded data removed]",
      "text/plain": [
       "<Figure size 432x288 with 1 Axes>"
      ]
     },
     "metadata": {
      "needs_background": "light"
     },
     "output_type": "display_data"
    }
   ],
   "source": [
    "string = string.lower()\n",
    "plot_words = string.split()\n",
    "plot_word_frequency(plot_words, 15)"
   ]
  },
  {
   "cell_type": "code",
   "execution_count": 138,
   "metadata": {
    "ExecuteTime": {
     "end_time": "2019-10-26T10:16:14.075596Z",
     "start_time": "2019-10-26T10:16:13.495926Z"
    }
   },
   "outputs": [],
   "source": [
    "no_stop = [word for word in plot_words if word not in stopwords.words('english')]"
   ]
  },
  {
   "cell_type": "code",
   "execution_count": 140,
   "metadata": {
    "ExecuteTime": {
     "end_time": "2019-10-26T10:16:29.017029Z",
     "start_time": "2019-10-26T10:16:28.732193Z"
    }
   },
   "outputs": [
    {
     "data": {
      "text/plain": [
       "<matplotlib.axes._subplots.AxesSubplot at 0x1430b5b0>"
      ]
     },
     "execution_count": 140,
     "metadata": {},
     "output_type": "execute_result"
    },
    {
     "data": {
      "image/png": "[encoded data removed]",
      "text/plain": [
       "<Figure size 432x288 with 1 Axes>"
      ]
     },
     "metadata": {
      "needs_background": "light"
     },
     "output_type": "display_data"
    }
   ],
   "source": [
    "plot_word_frequency(no_stop,8)"
   ]
  },
  {
   "cell_type": "code",
   "execution_count": null,
   "metadata": {},
   "outputs": [],
   "source": []
  }
 ],
 "metadata": {
  "hide_input": false,
  "kernelspec": {
   "display_name": "Python 3",
   "language": "python",
   "name": "python3"
  },
  "language_info": {
   "codemirror_mode": {
    "name": "ipython",
    "version": 3
   },
   "file_extension": ".py",
   "mimetype": "text/x-python",
   "name": "python",
   "nbconvert_exporter": "python",
   "pygments_lexer": "ipython3",
   "version": "3.7.4"
  },
  "toc": {
   "base_numbering": 1,
   "nav_menu": {},
   "number_sections": true,
   "sideBar": true,
   "skip_h1_title": false,
   "title_cell": "Table of Contents",
   "title_sidebar": "Contents",
   "toc_cell": false,
   "toc_position": {},
   "toc_section_display": true,
   "toc_window_display": false
  },
  "varInspector": {
   "cols": {
    "lenName": 16,
    "lenType": 16,
    "lenVar": 40
   },
   "kernels_config": {
    "python": {
     "delete_cmd_postfix": "",
     "delete_cmd_prefix": "del ",
     "library": "var_list.py",
     "varRefreshCmd": "print(var_dic_list())"
    },
    "r": {
     "delete_cmd_postfix": ") ",
     "delete_cmd_prefix": "rm(",
     "library": "var_list.r",
     "varRefreshCmd": "cat(var_dic_list()) "
    }
   },
   "types_to_exclude": [
    "module",
    "function",
    "builtin_function_or_method",
    "instance",
    "_Feature"
   ],
   "window_display": false
  }
 },
 "nbformat": 4,
 "nbformat_minor": 2
}
