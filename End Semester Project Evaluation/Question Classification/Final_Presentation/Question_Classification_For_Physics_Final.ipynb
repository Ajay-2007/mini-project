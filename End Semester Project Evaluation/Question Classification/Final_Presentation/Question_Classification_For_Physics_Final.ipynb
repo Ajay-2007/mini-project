{
  "nbformat": 4,
  "nbformat_minor": 0,
  "metadata": {
    "colab": {
      "name": " Question_Classification_For_Physics.ipynb",
      "provenance": [],
      "collapsed_sections": [],
      "toc_visible": true
    },
    "kernelspec": {
      "name": "python3",
      "display_name": "Python 3"
    }
  },
  "cells": [
    {
      "cell_type": "code",
      "metadata": {
        "id": "mFTOZyNHx6Ce",
        "colab_type": "code",
        "outputId": "f95d8636-4586-4039-e9e6-9dfb33216d07",
        "colab": {
          "base_uri": "https://localhost:8080/",
          "height": 54
        }
      },
      "source": [
        "from google.colab import drive\n",
        "drive.mount('/content/drive')"
      ],
      "execution_count": 194,
      "outputs": [
        {
          "output_type": "stream",
          "text": [
            "Drive already mounted at /content/drive; to attempt to forcibly remount, call drive.mount(\"/content/drive\", force_remount=True).\n"
          ],
          "name": "stdout"
        }
      ]
    },
    {
      "cell_type": "code",
      "metadata": {
        "id": "7jR-NL81zCg4",
        "colab_type": "code",
        "outputId": "9c2cef41-8659-4fe2-f8c2-2fc27c8d5215",
        "colab": {
          "base_uri": "https://localhost:8080/",
          "height": 34
        }
      },
      "source": [
        "from pathlib import Path\n",
        "path = Path.cwd()/ 'drive' / 'My Drive' / 'Colab Notebooks' / 'physics.csv'\n",
        "print(path)"
      ],
      "execution_count": 195,
      "outputs": [
        {
          "output_type": "stream",
          "text": [
            "/content/drive/My Drive/Colab Notebooks/physics.csv\n"
          ],
          "name": "stdout"
        }
      ]
    },
    {
      "cell_type": "code",
      "metadata": {
        "id": "f6VMY4hez6kn",
        "colab_type": "code",
        "colab": {}
      },
      "source": [
        "import pandas as pd\n",
        "import numpy as np\n",
        "import seaborn as sns\n",
        "from nltk import FreqDist\n",
        "from nltk.corpus import stopwords\n",
        "from nltk.tokenize import word_tokenize\n",
        "from sklearn.feature_extraction.text import TfidfVectorizer\n",
        "\n",
        "import warnings\n",
        "warnings.filterwarnings('ignore')\n",
        "\n",
        "pd.set_option('max_colwidth', 100)"
      ],
      "execution_count": 0,
      "outputs": []
    },
    {
      "cell_type": "code",
      "metadata": {
        "id": "e8Bft-Cj0bdP",
        "colab_type": "code",
        "outputId": "9971f906-bec4-429d-8d2f-84e42ce40938",
        "colab": {
          "base_uri": "https://localhost:8080/",
          "height": 275
        }
      },
      "source": [
        "\n",
        "data = pd.read_csv(path)\n",
        "data.columns\n",
        "print(data)"
      ],
      "execution_count": 197,
      "outputs": [
        {
          "output_type": "stream",
          "text": [
            "                                                                                               Questions  ...                  Topic\n",
            "0    A student measures the time period of 100 oscillations of a simple pendulum four times. The data...  ...   waves_thermodynamics\n",
            "1     A particle of mass m is moving along the side of a square of side ‘a’, with a uniform speed v i...  ...              mechanics\n",
            "2     A point particle of mass m, moves along the uniformly rough track PQR as shown in the figure. T...  ...              mechanics\n",
            "3    A person trying to lose weight by burning fat lifts a mass of 10 kg upto a height of 1 m 1000 ti...  ...              mechanics\n",
            "4    A roller is made by joining together two cones at their vertices O. It is kept on two rails AB a...  ...              mechanics\n",
            "..                                                                                                   ...  ...                    ...\n",
            "115  Assuming human pupil to have a radius of 0.25 cm and a comfortable viewing distance of 25 cm, th...  ...                 optics\n",
            "116  An an electron makes a transition from a excited state to the ground state of a hydrogen– like s...  ...         modern_physics\n",
            "117  Match List-I (fundamental Experiment) with List –II (its conclusion) and select the correct opti...  ...         modern_physics\n",
            "118  A signal of 5 kHZ frequency is amplitude modulated on a carrier wave of frequency 2 MHz. The fre...  ...                 optics\n",
            "119  An LCR circuit is equivalent to a damped pendulum. In an LCR circuit the capacitor is charged to...  ...  electricity_magnetism\n",
            "\n",
            "[120 rows x 3 columns]\n"
          ],
          "name": "stdout"
        }
      ]
    },
    {
      "cell_type": "code",
      "metadata": {
        "id": "00Ut4QHk0jmb",
        "colab_type": "code",
        "outputId": "f9fd68b6-5d66-43f1-d799-fe3a1cbadf63",
        "colab": {
          "base_uri": "https://localhost:8080/",
          "height": 221
        }
      },
      "source": [
        "data.Year.dtype\n",
        "data.Year"
      ],
      "execution_count": 198,
      "outputs": [
        {
          "output_type": "execute_result",
          "data": {
            "text/plain": [
              "0      2016\n",
              "1      2016\n",
              "2      2016\n",
              "3      2016\n",
              "4      2016\n",
              "       ... \n",
              "115    2015\n",
              "116    2015\n",
              "117    2015\n",
              "118    2015\n",
              "119    2015\n",
              "Name: Year, Length: 120, dtype: int64"
            ]
          },
          "metadata": {
            "tags": []
          },
          "execution_count": 198
        }
      ]
    },
    {
      "cell_type": "code",
      "metadata": {
        "id": "eTReMQ5F224V",
        "colab_type": "code",
        "outputId": "5cb84a9f-8c66-4f8e-a618-803de6751a6f",
        "colab": {
          "base_uri": "https://localhost:8080/",
          "height": 204
        }
      },
      "source": [
        "data.head()"
      ],
      "execution_count": 199,
      "outputs": [
        {
          "output_type": "execute_result",
          "data": {
            "text/html": [
              "<div>\n",
              "<style scoped>\n",
              "    .dataframe tbody tr th:only-of-type {\n",
              "        vertical-align: middle;\n",
              "    }\n",
              "\n",
              "    .dataframe tbody tr th {\n",
              "        vertical-align: top;\n",
              "    }\n",
              "\n",
              "    .dataframe thead th {\n",
              "        text-align: right;\n",
              "    }\n",
              "</style>\n",
              "<table border=\"1\" class=\"dataframe\">\n",
              "  <thead>\n",
              "    <tr style=\"text-align: right;\">\n",
              "      <th></th>\n",
              "      <th>Questions</th>\n",
              "      <th>Year</th>\n",
              "      <th>Topic</th>\n",
              "    </tr>\n",
              "  </thead>\n",
              "  <tbody>\n",
              "    <tr>\n",
              "      <th>0</th>\n",
              "      <td>A student measures the time period of 100 oscillations of a simple pendulum four times. The data...</td>\n",
              "      <td>2016</td>\n",
              "      <td>waves_thermodynamics</td>\n",
              "    </tr>\n",
              "    <tr>\n",
              "      <th>1</th>\n",
              "      <td>A particle of mass m is moving along the side of a square of side ‘a’, with a uniform speed v i...</td>\n",
              "      <td>2016</td>\n",
              "      <td>mechanics</td>\n",
              "    </tr>\n",
              "    <tr>\n",
              "      <th>2</th>\n",
              "      <td>A point particle of mass m, moves along the uniformly rough track PQR as shown in the figure. T...</td>\n",
              "      <td>2016</td>\n",
              "      <td>mechanics</td>\n",
              "    </tr>\n",
              "    <tr>\n",
              "      <th>3</th>\n",
              "      <td>A person trying to lose weight by burning fat lifts a mass of 10 kg upto a height of 1 m 1000 ti...</td>\n",
              "      <td>2016</td>\n",
              "      <td>mechanics</td>\n",
              "    </tr>\n",
              "    <tr>\n",
              "      <th>4</th>\n",
              "      <td>A roller is made by joining together two cones at their vertices O. It is kept on two rails AB a...</td>\n",
              "      <td>2016</td>\n",
              "      <td>mechanics</td>\n",
              "    </tr>\n",
              "  </tbody>\n",
              "</table>\n",
              "</div>"
            ],
            "text/plain": [
              "                                                                                             Questions  ...                 Topic\n",
              "0  A student measures the time period of 100 oscillations of a simple pendulum four times. The data...  ...  waves_thermodynamics\n",
              "1   A particle of mass m is moving along the side of a square of side ‘a’, with a uniform speed v i...  ...             mechanics\n",
              "2   A point particle of mass m, moves along the uniformly rough track PQR as shown in the figure. T...  ...             mechanics\n",
              "3  A person trying to lose weight by burning fat lifts a mass of 10 kg upto a height of 1 m 1000 ti...  ...             mechanics\n",
              "4  A roller is made by joining together two cones at their vertices O. It is kept on two rails AB a...  ...             mechanics\n",
              "\n",
              "[5 rows x 3 columns]"
            ]
          },
          "metadata": {
            "tags": []
          },
          "execution_count": 199
        }
      ]
    },
    {
      "cell_type": "markdown",
      "metadata": {
        "id": "tgAjq2wT3V1B",
        "colab_type": "text"
      },
      "source": [
        "# Data Preprocessing\n",
        "\n",
        "### Data Preprocessing Pipelines\n",
        "![Data Preprocessing Pipeline](https://miro.medium.com/max/976/1*vXpUaBPZRZtAsciMXllmkQ.png)\n",
        "\n",
        "---\n",
        "\n",
        "\n",
        "\n",
        "---\n",
        "\n"
      ]
    },
    {
      "cell_type": "code",
      "metadata": {
        "id": "jpfaSXVm4nkp",
        "colab_type": "code",
        "colab": {}
      },
      "source": [
        "\n",
        "# from sklearn.utils import shuffle\n",
        "# from sklearn.utils import shuffle\n",
        "# data = shuffle(data)\n",
        "# data = data.sample(frac=1, replace = True, random_state = 1)\n",
        "# data.head()"
      ],
      "execution_count": 0,
      "outputs": []
    },
    {
      "cell_type": "code",
      "metadata": {
        "id": "X8pnNi2w3bPj",
        "colab_type": "code",
        "outputId": "c664feb4-c307-48a1-ceb7-dc7d8a60383f",
        "colab": {
          "base_uri": "https://localhost:8080/",
          "height": 119
        }
      },
      "source": [
        "import nltk\n",
        "nltk.download('wordnet')\n",
        "nltk.download('stopwords')\n",
        "nltk.download('punkt')\n",
        "\n",
        "from nltk.stem.porter import PorterStemmer\n",
        "from nltk.stem import WordNetLemmatizer\n",
        "import re\n",
        "\n",
        "stemmer = PorterStemmer()\n",
        "lemmatizer = WordNetLemmatizer()\n",
        "\n",
        "def preprocess(document):\n",
        "  document = str(document)\n",
        "  document = document.lower()\n",
        "  # document = re.sub('\\W\\D',' ', document)\n",
        "  words = word_tokenize(document)\n",
        "  # r = compile('\\W\\D')\n",
        "  # words = [word for word in words if not r.match(word)]\n",
        "  words = [lemmatizer.lemmatize(stemmer.stem(word)) for word in words if word not in stopwords.words('english')]\n",
        "  \n",
        "\n",
        "  document = str(\" \".join(words))\n",
        "\n",
        "  return document"
      ],
      "execution_count": 201,
      "outputs": [
        {
          "output_type": "stream",
          "text": [
            "[nltk_data] Downloading package wordnet to /root/nltk_data...\n",
            "[nltk_data]   Package wordnet is already up-to-date!\n",
            "[nltk_data] Downloading package stopwords to /root/nltk_data...\n",
            "[nltk_data]   Package stopwords is already up-to-date!\n",
            "[nltk_data] Downloading package punkt to /root/nltk_data...\n",
            "[nltk_data]   Package punkt is already up-to-date!\n"
          ],
          "name": "stdout"
        }
      ]
    },
    {
      "cell_type": "code",
      "metadata": {
        "id": "LR2_uMiN4vNk",
        "colab_type": "code",
        "outputId": "e25f296c-1499-4c2f-f146-bfb07aaad235",
        "colab": {
          "base_uri": "https://localhost:8080/",
          "height": 68
        }
      },
      "source": [
        "print(data.Topic.unique())\n",
        "print(data.Year.unique())"
      ],
      "execution_count": 202,
      "outputs": [
        {
          "output_type": "stream",
          "text": [
            "['waves_thermodynamics' 'mechanics' 'electricity_magnetism' 'optics'\n",
            " 'modern_physics']\n",
            "[2016 2017 2018 2015]\n"
          ],
          "name": "stdout"
        }
      ]
    },
    {
      "cell_type": "code",
      "metadata": {
        "id": "Pvma985a5D0L",
        "colab_type": "code",
        "outputId": "15800c63-59b4-4f6e-b72e-8b946f5b2667",
        "colab": {
          "base_uri": "https://localhost:8080/",
          "height": 54
        }
      },
      "source": [
        "questions = [question for question in data.Questions]\n",
        "print(questions[1:3])"
      ],
      "execution_count": 203,
      "outputs": [
        {
          "output_type": "stream",
          "text": [
            "[' A particle of mass m is moving along the side of a square of side ‘a’, with a uniform speed v in the x-y plane as shown in the figure : Which of the following statements is false for the angular momentum ® L about the origin  ', ' A point particle of mass m, moves along the uniformly rough track PQR as shown in the figure. The coefficient of friction, between the particle and the rough track equals μ. The particle is released, from rest, from the point P and it comes to rest at a point R. The energies, lost by the ball, over the parts, PQ and QR, of the track, are equal to each other, and no energy is lost when particle changes direction from PQ to QR. The values of the coefficient of friction μ and the distance x(=QR), are, respectively close to  ']\n"
          ],
          "name": "stdout"
        }
      ]
    },
    {
      "cell_type": "code",
      "metadata": {
        "id": "rDVZx-wu5xCY",
        "colab_type": "code",
        "outputId": "2a7e14f6-a27d-4d41-8e83-52e5142c9615",
        "colab": {
          "base_uri": "https://localhost:8080/",
          "height": 71
        }
      },
      "source": [
        "# preprocess questions using the preprocess function\n",
        "questions = [preprocess(question) for question in questions]\n",
        "print(questions[1:3])\n",
        "len(questions)"
      ],
      "execution_count": 204,
      "outputs": [
        {
          "output_type": "stream",
          "text": [
            "['particl mass move along side squar side ‘ ’ , uniform speed v x-i plane shown figur : follow statement fals angular momentum ® l origin', 'point particl mass , move along uniformli rough track pqr shown figur . coeffici friction , particl rough track equal μ. particl releas , rest , point p come rest point r. energi , lost ball , part , pq qr , track , equal , energi lost particl chang direct pq qr . valu coeffici friction μ distanc x ( =qr ) , , respect close']\n"
          ],
          "name": "stdout"
        },
        {
          "output_type": "execute_result",
          "data": {
            "text/plain": [
              "120"
            ]
          },
          "metadata": {
            "tags": []
          },
          "execution_count": 204
        }
      ]
    },
    {
      "cell_type": "code",
      "metadata": {
        "id": "tOsVC-To6Ilc",
        "colab_type": "code",
        "outputId": "8514488a-a4f1-43dd-899a-dfef8f8c76dc",
        "colab": {
          "base_uri": "https://localhost:8080/",
          "height": 204
        }
      },
      "source": [
        "# type(data.Questions)\n",
        "questions = pd.DataFrame(questions)\n",
        "# questions.head()\n",
        "data['Questions'] = questions\n",
        "data.head()"
      ],
      "execution_count": 205,
      "outputs": [
        {
          "output_type": "execute_result",
          "data": {
            "text/html": [
              "<div>\n",
              "<style scoped>\n",
              "    .dataframe tbody tr th:only-of-type {\n",
              "        vertical-align: middle;\n",
              "    }\n",
              "\n",
              "    .dataframe tbody tr th {\n",
              "        vertical-align: top;\n",
              "    }\n",
              "\n",
              "    .dataframe thead th {\n",
              "        text-align: right;\n",
              "    }\n",
              "</style>\n",
              "<table border=\"1\" class=\"dataframe\">\n",
              "  <thead>\n",
              "    <tr style=\"text-align: right;\">\n",
              "      <th></th>\n",
              "      <th>Questions</th>\n",
              "      <th>Year</th>\n",
              "      <th>Topic</th>\n",
              "    </tr>\n",
              "  </thead>\n",
              "  <tbody>\n",
              "    <tr>\n",
              "      <th>0</th>\n",
              "      <td>student measur time period 100 oscil simpl pendulum four time . data set 90 , 91 , 95 92 s. mini...</td>\n",
              "      <td>2016</td>\n",
              "      <td>waves_thermodynamics</td>\n",
              "    </tr>\n",
              "    <tr>\n",
              "      <th>1</th>\n",
              "      <td>particl mass move along side squar side ‘ ’ , uniform speed v x-i plane shown figur : follow sta...</td>\n",
              "      <td>2016</td>\n",
              "      <td>mechanics</td>\n",
              "    </tr>\n",
              "    <tr>\n",
              "      <th>2</th>\n",
              "      <td>point particl mass , move along uniformli rough track pqr shown figur . coeffici friction , part...</td>\n",
              "      <td>2016</td>\n",
              "      <td>mechanics</td>\n",
              "    </tr>\n",
              "    <tr>\n",
              "      <th>3</th>\n",
              "      <td>person tri lose weight burn fat lift mass 10 kg upto height 1 1000 time . assum potenti energi l...</td>\n",
              "      <td>2016</td>\n",
              "      <td>mechanics</td>\n",
              "    </tr>\n",
              "    <tr>\n",
              "      <th>4</th>\n",
              "      <td>roller made join togeth two cone vertic o. kept two rail ab cd place asymmetr ( see figur ) , ax...</td>\n",
              "      <td>2016</td>\n",
              "      <td>mechanics</td>\n",
              "    </tr>\n",
              "  </tbody>\n",
              "</table>\n",
              "</div>"
            ],
            "text/plain": [
              "                                                                                             Questions  ...                 Topic\n",
              "0  student measur time period 100 oscil simpl pendulum four time . data set 90 , 91 , 95 92 s. mini...  ...  waves_thermodynamics\n",
              "1  particl mass move along side squar side ‘ ’ , uniform speed v x-i plane shown figur : follow sta...  ...             mechanics\n",
              "2  point particl mass , move along uniformli rough track pqr shown figur . coeffici friction , part...  ...             mechanics\n",
              "3  person tri lose weight burn fat lift mass 10 kg upto height 1 1000 time . assum potenti energi l...  ...             mechanics\n",
              "4  roller made join togeth two cone vertic o. kept two rail ab cd place asymmetr ( see figur ) , ax...  ...             mechanics\n",
              "\n",
              "[5 rows x 3 columns]"
            ]
          },
          "metadata": {
            "tags": []
          },
          "execution_count": 205
        }
      ]
    },
    {
      "cell_type": "markdown",
      "metadata": {
        "id": "Zn5e1fXF8hfP",
        "colab_type": "text"
      },
      "source": [
        "# Feature Engineeing\n",
        "\n",
        "\n"
      ]
    },
    {
      "cell_type": "code",
      "metadata": {
        "id": "pFISpdDC6e4O",
        "colab_type": "code",
        "colab": {}
      },
      "source": [
        "# Tfidf vectorization\n",
        "vectorizer = TfidfVectorizer()  \n",
        "tfidf_model = vectorizer.fit_transform(data['Questions'])"
      ],
      "execution_count": 0,
      "outputs": []
    },
    {
      "cell_type": "code",
      "metadata": {
        "id": "I2nNazZf6guO",
        "colab_type": "code",
        "colab": {}
      },
      "source": [
        "questions_tfidf = pd.DataFrame(tfidf_model.toarray(), columns= vectorizer.get_feature_names())"
      ],
      "execution_count": 0,
      "outputs": []
    },
    {
      "cell_type": "code",
      "metadata": {
        "id": "HBNPF_Y59Bnt",
        "colab_type": "code",
        "outputId": "f5d5a4bd-f1ac-49d9-e5a3-89e647b05cb4",
        "colab": {
          "base_uri": "https://localhost:8080/",
          "height": 253
        }
      },
      "source": [
        "questions_tfidf.head()"
      ],
      "execution_count": 208,
      "outputs": [
        {
          "output_type": "execute_result",
          "data": {
            "text/html": [
              "<div>\n",
              "<style scoped>\n",
              "    .dataframe tbody tr th:only-of-type {\n",
              "        vertical-align: middle;\n",
              "    }\n",
              "\n",
              "    .dataframe tbody tr th {\n",
              "        vertical-align: top;\n",
              "    }\n",
              "\n",
              "    .dataframe thead th {\n",
              "        text-align: right;\n",
              "    }\n",
              "</style>\n",
              "<table border=\"1\" class=\"dataframe\">\n",
              "  <thead>\n",
              "    <tr style=\"text-align: right;\">\n",
              "      <th></th>\n",
              "      <th>01</th>\n",
              "      <th>02</th>\n",
              "      <th>03h</th>\n",
              "      <th>08c</th>\n",
              "      <th>10</th>\n",
              "      <th>100</th>\n",
              "      <th>1000</th>\n",
              "      <th>1010</th>\n",
              "      <th>1012</th>\n",
              "      <th>1023</th>\n",
              "      <th>1028</th>\n",
              "      <th>103</th>\n",
              "      <th>105</th>\n",
              "      <th>107</th>\n",
              "      <th>108</th>\n",
              "      <th>12</th>\n",
              "      <th>13</th>\n",
              "      <th>15</th>\n",
              "      <th>150</th>\n",
              "      <th>15v</th>\n",
              "      <th>170</th>\n",
              "      <th>178c</th>\n",
              "      <th>18</th>\n",
              "      <th>1μf</th>\n",
              "      <th>20</th>\n",
              "      <th>200</th>\n",
              "      <th>208c</th>\n",
              "      <th>220</th>\n",
              "      <th>240</th>\n",
              "      <th>25</th>\n",
              "      <th>25th</th>\n",
              "      <th>27</th>\n",
              "      <th>278c</th>\n",
              "      <th>2m</th>\n",
              "      <th>2μf</th>\n",
              "      <th>30</th>\n",
              "      <th>300</th>\n",
              "      <th>308c</th>\n",
              "      <th>32</th>\n",
              "      <th>320</th>\n",
              "      <th>...</th>\n",
              "      <th>want</th>\n",
              "      <th>watch</th>\n",
              "      <th>water</th>\n",
              "      <th>watt</th>\n",
              "      <th>wattle</th>\n",
              "      <th>wave</th>\n",
              "      <th>wavelength</th>\n",
              "      <th>way</th>\n",
              "      <th>weight</th>\n",
              "      <th>weld</th>\n",
              "      <th>well</th>\n",
              "      <th>wheatston</th>\n",
              "      <th>whistl</th>\n",
              "      <th>whose</th>\n",
              "      <th>width</th>\n",
              "      <th>wire</th>\n",
              "      <th>withstand</th>\n",
              "      <th>work</th>\n",
              "      <th>would</th>\n",
              "      <th>wrist</th>\n",
              "      <th>wt</th>\n",
              "      <th>yellow</th>\n",
              "      <th>young</th>\n",
              "      <th>z0</th>\n",
              "      <th>zero</th>\n",
              "      <th>δωm</th>\n",
              "      <th>ιn</th>\n",
              "      <th>λ1</th>\n",
              "      <th>λ2</th>\n",
              "      <th>λa</th>\n",
              "      <th>λb</th>\n",
              "      <th>λg</th>\n",
              "      <th>λmin</th>\n",
              "      <th>λn</th>\n",
              "      <th>μf</th>\n",
              "      <th>μm</th>\n",
              "      <th>νl</th>\n",
              "      <th>ωc</th>\n",
              "      <th>ωm</th>\n",
              "      <th>ωo</th>\n",
              "    </tr>\n",
              "  </thead>\n",
              "  <tbody>\n",
              "    <tr>\n",
              "      <th>0</th>\n",
              "      <td>0.0</td>\n",
              "      <td>0.0</td>\n",
              "      <td>0.0</td>\n",
              "      <td>0.0</td>\n",
              "      <td>0.000000</td>\n",
              "      <td>0.162487</td>\n",
              "      <td>0.000000</td>\n",
              "      <td>0.0</td>\n",
              "      <td>0.0</td>\n",
              "      <td>0.0</td>\n",
              "      <td>0.0</td>\n",
              "      <td>0.0</td>\n",
              "      <td>0.0</td>\n",
              "      <td>0.000000</td>\n",
              "      <td>0.0</td>\n",
              "      <td>0.0</td>\n",
              "      <td>0.0</td>\n",
              "      <td>0.0</td>\n",
              "      <td>0.0</td>\n",
              "      <td>0.0</td>\n",
              "      <td>0.0</td>\n",
              "      <td>0.0</td>\n",
              "      <td>0.0</td>\n",
              "      <td>0.0</td>\n",
              "      <td>0.000000</td>\n",
              "      <td>0.0</td>\n",
              "      <td>0.0</td>\n",
              "      <td>0.0</td>\n",
              "      <td>0.0</td>\n",
              "      <td>0.0</td>\n",
              "      <td>0.0</td>\n",
              "      <td>0.0</td>\n",
              "      <td>0.0</td>\n",
              "      <td>0.0</td>\n",
              "      <td>0.0</td>\n",
              "      <td>0.0</td>\n",
              "      <td>0.0</td>\n",
              "      <td>0.0</td>\n",
              "      <td>0.0</td>\n",
              "      <td>0.0</td>\n",
              "      <td>...</td>\n",
              "      <td>0.0</td>\n",
              "      <td>0.0</td>\n",
              "      <td>0.0</td>\n",
              "      <td>0.0</td>\n",
              "      <td>0.0</td>\n",
              "      <td>0.0</td>\n",
              "      <td>0.0</td>\n",
              "      <td>0.0</td>\n",
              "      <td>0.000000</td>\n",
              "      <td>0.0</td>\n",
              "      <td>0.0</td>\n",
              "      <td>0.0</td>\n",
              "      <td>0.0</td>\n",
              "      <td>0.0</td>\n",
              "      <td>0.0</td>\n",
              "      <td>0.0</td>\n",
              "      <td>0.0</td>\n",
              "      <td>0.000000</td>\n",
              "      <td>0.0</td>\n",
              "      <td>0.0</td>\n",
              "      <td>0.0</td>\n",
              "      <td>0.0</td>\n",
              "      <td>0.0</td>\n",
              "      <td>0.0</td>\n",
              "      <td>0.0</td>\n",
              "      <td>0.0</td>\n",
              "      <td>0.0</td>\n",
              "      <td>0.0</td>\n",
              "      <td>0.0</td>\n",
              "      <td>0.0</td>\n",
              "      <td>0.0</td>\n",
              "      <td>0.0</td>\n",
              "      <td>0.0</td>\n",
              "      <td>0.0</td>\n",
              "      <td>0.0</td>\n",
              "      <td>0.0</td>\n",
              "      <td>0.0</td>\n",
              "      <td>0.0</td>\n",
              "      <td>0.0</td>\n",
              "      <td>0.0</td>\n",
              "    </tr>\n",
              "    <tr>\n",
              "      <th>1</th>\n",
              "      <td>0.0</td>\n",
              "      <td>0.0</td>\n",
              "      <td>0.0</td>\n",
              "      <td>0.0</td>\n",
              "      <td>0.000000</td>\n",
              "      <td>0.000000</td>\n",
              "      <td>0.000000</td>\n",
              "      <td>0.0</td>\n",
              "      <td>0.0</td>\n",
              "      <td>0.0</td>\n",
              "      <td>0.0</td>\n",
              "      <td>0.0</td>\n",
              "      <td>0.0</td>\n",
              "      <td>0.000000</td>\n",
              "      <td>0.0</td>\n",
              "      <td>0.0</td>\n",
              "      <td>0.0</td>\n",
              "      <td>0.0</td>\n",
              "      <td>0.0</td>\n",
              "      <td>0.0</td>\n",
              "      <td>0.0</td>\n",
              "      <td>0.0</td>\n",
              "      <td>0.0</td>\n",
              "      <td>0.0</td>\n",
              "      <td>0.000000</td>\n",
              "      <td>0.0</td>\n",
              "      <td>0.0</td>\n",
              "      <td>0.0</td>\n",
              "      <td>0.0</td>\n",
              "      <td>0.0</td>\n",
              "      <td>0.0</td>\n",
              "      <td>0.0</td>\n",
              "      <td>0.0</td>\n",
              "      <td>0.0</td>\n",
              "      <td>0.0</td>\n",
              "      <td>0.0</td>\n",
              "      <td>0.0</td>\n",
              "      <td>0.0</td>\n",
              "      <td>0.0</td>\n",
              "      <td>0.0</td>\n",
              "      <td>...</td>\n",
              "      <td>0.0</td>\n",
              "      <td>0.0</td>\n",
              "      <td>0.0</td>\n",
              "      <td>0.0</td>\n",
              "      <td>0.0</td>\n",
              "      <td>0.0</td>\n",
              "      <td>0.0</td>\n",
              "      <td>0.0</td>\n",
              "      <td>0.000000</td>\n",
              "      <td>0.0</td>\n",
              "      <td>0.0</td>\n",
              "      <td>0.0</td>\n",
              "      <td>0.0</td>\n",
              "      <td>0.0</td>\n",
              "      <td>0.0</td>\n",
              "      <td>0.0</td>\n",
              "      <td>0.0</td>\n",
              "      <td>0.000000</td>\n",
              "      <td>0.0</td>\n",
              "      <td>0.0</td>\n",
              "      <td>0.0</td>\n",
              "      <td>0.0</td>\n",
              "      <td>0.0</td>\n",
              "      <td>0.0</td>\n",
              "      <td>0.0</td>\n",
              "      <td>0.0</td>\n",
              "      <td>0.0</td>\n",
              "      <td>0.0</td>\n",
              "      <td>0.0</td>\n",
              "      <td>0.0</td>\n",
              "      <td>0.0</td>\n",
              "      <td>0.0</td>\n",
              "      <td>0.0</td>\n",
              "      <td>0.0</td>\n",
              "      <td>0.0</td>\n",
              "      <td>0.0</td>\n",
              "      <td>0.0</td>\n",
              "      <td>0.0</td>\n",
              "      <td>0.0</td>\n",
              "      <td>0.0</td>\n",
              "    </tr>\n",
              "    <tr>\n",
              "      <th>2</th>\n",
              "      <td>0.0</td>\n",
              "      <td>0.0</td>\n",
              "      <td>0.0</td>\n",
              "      <td>0.0</td>\n",
              "      <td>0.000000</td>\n",
              "      <td>0.000000</td>\n",
              "      <td>0.000000</td>\n",
              "      <td>0.0</td>\n",
              "      <td>0.0</td>\n",
              "      <td>0.0</td>\n",
              "      <td>0.0</td>\n",
              "      <td>0.0</td>\n",
              "      <td>0.0</td>\n",
              "      <td>0.000000</td>\n",
              "      <td>0.0</td>\n",
              "      <td>0.0</td>\n",
              "      <td>0.0</td>\n",
              "      <td>0.0</td>\n",
              "      <td>0.0</td>\n",
              "      <td>0.0</td>\n",
              "      <td>0.0</td>\n",
              "      <td>0.0</td>\n",
              "      <td>0.0</td>\n",
              "      <td>0.0</td>\n",
              "      <td>0.000000</td>\n",
              "      <td>0.0</td>\n",
              "      <td>0.0</td>\n",
              "      <td>0.0</td>\n",
              "      <td>0.0</td>\n",
              "      <td>0.0</td>\n",
              "      <td>0.0</td>\n",
              "      <td>0.0</td>\n",
              "      <td>0.0</td>\n",
              "      <td>0.0</td>\n",
              "      <td>0.0</td>\n",
              "      <td>0.0</td>\n",
              "      <td>0.0</td>\n",
              "      <td>0.0</td>\n",
              "      <td>0.0</td>\n",
              "      <td>0.0</td>\n",
              "      <td>...</td>\n",
              "      <td>0.0</td>\n",
              "      <td>0.0</td>\n",
              "      <td>0.0</td>\n",
              "      <td>0.0</td>\n",
              "      <td>0.0</td>\n",
              "      <td>0.0</td>\n",
              "      <td>0.0</td>\n",
              "      <td>0.0</td>\n",
              "      <td>0.000000</td>\n",
              "      <td>0.0</td>\n",
              "      <td>0.0</td>\n",
              "      <td>0.0</td>\n",
              "      <td>0.0</td>\n",
              "      <td>0.0</td>\n",
              "      <td>0.0</td>\n",
              "      <td>0.0</td>\n",
              "      <td>0.0</td>\n",
              "      <td>0.000000</td>\n",
              "      <td>0.0</td>\n",
              "      <td>0.0</td>\n",
              "      <td>0.0</td>\n",
              "      <td>0.0</td>\n",
              "      <td>0.0</td>\n",
              "      <td>0.0</td>\n",
              "      <td>0.0</td>\n",
              "      <td>0.0</td>\n",
              "      <td>0.0</td>\n",
              "      <td>0.0</td>\n",
              "      <td>0.0</td>\n",
              "      <td>0.0</td>\n",
              "      <td>0.0</td>\n",
              "      <td>0.0</td>\n",
              "      <td>0.0</td>\n",
              "      <td>0.0</td>\n",
              "      <td>0.0</td>\n",
              "      <td>0.0</td>\n",
              "      <td>0.0</td>\n",
              "      <td>0.0</td>\n",
              "      <td>0.0</td>\n",
              "      <td>0.0</td>\n",
              "    </tr>\n",
              "    <tr>\n",
              "      <th>3</th>\n",
              "      <td>0.0</td>\n",
              "      <td>0.0</td>\n",
              "      <td>0.0</td>\n",
              "      <td>0.0</td>\n",
              "      <td>0.081409</td>\n",
              "      <td>0.000000</td>\n",
              "      <td>0.136566</td>\n",
              "      <td>0.0</td>\n",
              "      <td>0.0</td>\n",
              "      <td>0.0</td>\n",
              "      <td>0.0</td>\n",
              "      <td>0.0</td>\n",
              "      <td>0.0</td>\n",
              "      <td>0.148355</td>\n",
              "      <td>0.0</td>\n",
              "      <td>0.0</td>\n",
              "      <td>0.0</td>\n",
              "      <td>0.0</td>\n",
              "      <td>0.0</td>\n",
              "      <td>0.0</td>\n",
              "      <td>0.0</td>\n",
              "      <td>0.0</td>\n",
              "      <td>0.0</td>\n",
              "      <td>0.0</td>\n",
              "      <td>0.101562</td>\n",
              "      <td>0.0</td>\n",
              "      <td>0.0</td>\n",
              "      <td>0.0</td>\n",
              "      <td>0.0</td>\n",
              "      <td>0.0</td>\n",
              "      <td>0.0</td>\n",
              "      <td>0.0</td>\n",
              "      <td>0.0</td>\n",
              "      <td>0.0</td>\n",
              "      <td>0.0</td>\n",
              "      <td>0.0</td>\n",
              "      <td>0.0</td>\n",
              "      <td>0.0</td>\n",
              "      <td>0.0</td>\n",
              "      <td>0.0</td>\n",
              "      <td>...</td>\n",
              "      <td>0.0</td>\n",
              "      <td>0.0</td>\n",
              "      <td>0.0</td>\n",
              "      <td>0.0</td>\n",
              "      <td>0.0</td>\n",
              "      <td>0.0</td>\n",
              "      <td>0.0</td>\n",
              "      <td>0.0</td>\n",
              "      <td>0.256404</td>\n",
              "      <td>0.0</td>\n",
              "      <td>0.0</td>\n",
              "      <td>0.0</td>\n",
              "      <td>0.0</td>\n",
              "      <td>0.0</td>\n",
              "      <td>0.0</td>\n",
              "      <td>0.0</td>\n",
              "      <td>0.0</td>\n",
              "      <td>0.121714</td>\n",
              "      <td>0.0</td>\n",
              "      <td>0.0</td>\n",
              "      <td>0.0</td>\n",
              "      <td>0.0</td>\n",
              "      <td>0.0</td>\n",
              "      <td>0.0</td>\n",
              "      <td>0.0</td>\n",
              "      <td>0.0</td>\n",
              "      <td>0.0</td>\n",
              "      <td>0.0</td>\n",
              "      <td>0.0</td>\n",
              "      <td>0.0</td>\n",
              "      <td>0.0</td>\n",
              "      <td>0.0</td>\n",
              "      <td>0.0</td>\n",
              "      <td>0.0</td>\n",
              "      <td>0.0</td>\n",
              "      <td>0.0</td>\n",
              "      <td>0.0</td>\n",
              "      <td>0.0</td>\n",
              "      <td>0.0</td>\n",
              "      <td>0.0</td>\n",
              "    </tr>\n",
              "    <tr>\n",
              "      <th>4</th>\n",
              "      <td>0.0</td>\n",
              "      <td>0.0</td>\n",
              "      <td>0.0</td>\n",
              "      <td>0.0</td>\n",
              "      <td>0.000000</td>\n",
              "      <td>0.000000</td>\n",
              "      <td>0.000000</td>\n",
              "      <td>0.0</td>\n",
              "      <td>0.0</td>\n",
              "      <td>0.0</td>\n",
              "      <td>0.0</td>\n",
              "      <td>0.0</td>\n",
              "      <td>0.0</td>\n",
              "      <td>0.000000</td>\n",
              "      <td>0.0</td>\n",
              "      <td>0.0</td>\n",
              "      <td>0.0</td>\n",
              "      <td>0.0</td>\n",
              "      <td>0.0</td>\n",
              "      <td>0.0</td>\n",
              "      <td>0.0</td>\n",
              "      <td>0.0</td>\n",
              "      <td>0.0</td>\n",
              "      <td>0.0</td>\n",
              "      <td>0.000000</td>\n",
              "      <td>0.0</td>\n",
              "      <td>0.0</td>\n",
              "      <td>0.0</td>\n",
              "      <td>0.0</td>\n",
              "      <td>0.0</td>\n",
              "      <td>0.0</td>\n",
              "      <td>0.0</td>\n",
              "      <td>0.0</td>\n",
              "      <td>0.0</td>\n",
              "      <td>0.0</td>\n",
              "      <td>0.0</td>\n",
              "      <td>0.0</td>\n",
              "      <td>0.0</td>\n",
              "      <td>0.0</td>\n",
              "      <td>0.0</td>\n",
              "      <td>...</td>\n",
              "      <td>0.0</td>\n",
              "      <td>0.0</td>\n",
              "      <td>0.0</td>\n",
              "      <td>0.0</td>\n",
              "      <td>0.0</td>\n",
              "      <td>0.0</td>\n",
              "      <td>0.0</td>\n",
              "      <td>0.0</td>\n",
              "      <td>0.000000</td>\n",
              "      <td>0.0</td>\n",
              "      <td>0.0</td>\n",
              "      <td>0.0</td>\n",
              "      <td>0.0</td>\n",
              "      <td>0.0</td>\n",
              "      <td>0.0</td>\n",
              "      <td>0.0</td>\n",
              "      <td>0.0</td>\n",
              "      <td>0.000000</td>\n",
              "      <td>0.0</td>\n",
              "      <td>0.0</td>\n",
              "      <td>0.0</td>\n",
              "      <td>0.0</td>\n",
              "      <td>0.0</td>\n",
              "      <td>0.0</td>\n",
              "      <td>0.0</td>\n",
              "      <td>0.0</td>\n",
              "      <td>0.0</td>\n",
              "      <td>0.0</td>\n",
              "      <td>0.0</td>\n",
              "      <td>0.0</td>\n",
              "      <td>0.0</td>\n",
              "      <td>0.0</td>\n",
              "      <td>0.0</td>\n",
              "      <td>0.0</td>\n",
              "      <td>0.0</td>\n",
              "      <td>0.0</td>\n",
              "      <td>0.0</td>\n",
              "      <td>0.0</td>\n",
              "      <td>0.0</td>\n",
              "      <td>0.0</td>\n",
              "    </tr>\n",
              "  </tbody>\n",
              "</table>\n",
              "<p>5 rows × 867 columns</p>\n",
              "</div>"
            ],
            "text/plain": [
              "    01   02  03h  08c        10       100  ...   μf   μm   νl   ωc   ωm   ωo\n",
              "0  0.0  0.0  0.0  0.0  0.000000  0.162487  ...  0.0  0.0  0.0  0.0  0.0  0.0\n",
              "1  0.0  0.0  0.0  0.0  0.000000  0.000000  ...  0.0  0.0  0.0  0.0  0.0  0.0\n",
              "2  0.0  0.0  0.0  0.0  0.000000  0.000000  ...  0.0  0.0  0.0  0.0  0.0  0.0\n",
              "3  0.0  0.0  0.0  0.0  0.081409  0.000000  ...  0.0  0.0  0.0  0.0  0.0  0.0\n",
              "4  0.0  0.0  0.0  0.0  0.000000  0.000000  ...  0.0  0.0  0.0  0.0  0.0  0.0\n",
              "\n",
              "[5 rows x 867 columns]"
            ]
          },
          "metadata": {
            "tags": []
          },
          "execution_count": 208
        }
      ]
    },
    {
      "cell_type": "code",
      "metadata": {
        "id": "J9_eark19RAp",
        "colab_type": "code",
        "outputId": "f4138fb4-351e-49a5-c155-0a56a07effe8",
        "colab": {
          "base_uri": "https://localhost:8080/",
          "height": 253
        }
      },
      "source": [
        "column_name = questions_tfidf.columns\n",
        "# column_name[:70]\n",
        "questions_tfidf.drop(list(column_name[:70]), inplace=True, axis=1)\n",
        "questions_tfidf.head()"
      ],
      "execution_count": 209,
      "outputs": [
        {
          "output_type": "execute_result",
          "data": {
            "text/html": [
              "<div>\n",
              "<style scoped>\n",
              "    .dataframe tbody tr th:only-of-type {\n",
              "        vertical-align: middle;\n",
              "    }\n",
              "\n",
              "    .dataframe tbody tr th {\n",
              "        vertical-align: top;\n",
              "    }\n",
              "\n",
              "    .dataframe thead th {\n",
              "        text-align: right;\n",
              "    }\n",
              "</style>\n",
              "<table border=\"1\" class=\"dataframe\">\n",
              "  <thead>\n",
              "    <tr style=\"text-align: right;\">\n",
              "      <th></th>\n",
              "      <th>ac</th>\n",
              "      <th>acceler</th>\n",
              "      <th>accuraci</th>\n",
              "      <th>achiev</th>\n",
              "      <th>across</th>\n",
              "      <th>act</th>\n",
              "      <th>action</th>\n",
              "      <th>ad</th>\n",
              "      <th>addit</th>\n",
              "      <th>adiabat</th>\n",
              "      <th>air</th>\n",
              "      <th>along</th>\n",
              "      <th>alpha</th>\n",
              "      <th>altern</th>\n",
              "      <th>aluminium</th>\n",
              "      <th>am2</th>\n",
              "      <th>ammet</th>\n",
              "      <th>amount</th>\n",
              "      <th>amplifi</th>\n",
              "      <th>amplitud</th>\n",
              "      <th>angl</th>\n",
              "      <th>angular</th>\n",
              "      <th>anoth</th>\n",
              "      <th>appear</th>\n",
              "      <th>appli</th>\n",
              "      <th>ar</th>\n",
              "      <th>arc</th>\n",
              "      <th>area</th>\n",
              "      <th>around</th>\n",
              "      <th>arrang</th>\n",
              "      <th>assum</th>\n",
              "      <th>asymmetr</th>\n",
              "      <th>atmospher</th>\n",
              "      <th>atom</th>\n",
              "      <th>attract</th>\n",
              "      <th>audio</th>\n",
              "      <th>avagadro</th>\n",
              "      <th>avail</th>\n",
              "      <th>averag</th>\n",
              "      <th>away</th>\n",
              "      <th>...</th>\n",
              "      <th>want</th>\n",
              "      <th>watch</th>\n",
              "      <th>water</th>\n",
              "      <th>watt</th>\n",
              "      <th>wattle</th>\n",
              "      <th>wave</th>\n",
              "      <th>wavelength</th>\n",
              "      <th>way</th>\n",
              "      <th>weight</th>\n",
              "      <th>weld</th>\n",
              "      <th>well</th>\n",
              "      <th>wheatston</th>\n",
              "      <th>whistl</th>\n",
              "      <th>whose</th>\n",
              "      <th>width</th>\n",
              "      <th>wire</th>\n",
              "      <th>withstand</th>\n",
              "      <th>work</th>\n",
              "      <th>would</th>\n",
              "      <th>wrist</th>\n",
              "      <th>wt</th>\n",
              "      <th>yellow</th>\n",
              "      <th>young</th>\n",
              "      <th>z0</th>\n",
              "      <th>zero</th>\n",
              "      <th>δωm</th>\n",
              "      <th>ιn</th>\n",
              "      <th>λ1</th>\n",
              "      <th>λ2</th>\n",
              "      <th>λa</th>\n",
              "      <th>λb</th>\n",
              "      <th>λg</th>\n",
              "      <th>λmin</th>\n",
              "      <th>λn</th>\n",
              "      <th>μf</th>\n",
              "      <th>μm</th>\n",
              "      <th>νl</th>\n",
              "      <th>ωc</th>\n",
              "      <th>ωm</th>\n",
              "      <th>ωo</th>\n",
              "    </tr>\n",
              "  </thead>\n",
              "  <tbody>\n",
              "    <tr>\n",
              "      <th>0</th>\n",
              "      <td>0.0</td>\n",
              "      <td>0.0</td>\n",
              "      <td>0.0</td>\n",
              "      <td>0.0</td>\n",
              "      <td>0.0</td>\n",
              "      <td>0.0</td>\n",
              "      <td>0.0</td>\n",
              "      <td>0.0</td>\n",
              "      <td>0.0</td>\n",
              "      <td>0.0</td>\n",
              "      <td>0.0</td>\n",
              "      <td>0.000000</td>\n",
              "      <td>0.0</td>\n",
              "      <td>0.000000</td>\n",
              "      <td>0.0</td>\n",
              "      <td>0.0</td>\n",
              "      <td>0.0</td>\n",
              "      <td>0.0</td>\n",
              "      <td>0.0</td>\n",
              "      <td>0.0</td>\n",
              "      <td>0.0</td>\n",
              "      <td>0.000000</td>\n",
              "      <td>0.0</td>\n",
              "      <td>0.0</td>\n",
              "      <td>0.0</td>\n",
              "      <td>0.0</td>\n",
              "      <td>0.0</td>\n",
              "      <td>0.0</td>\n",
              "      <td>0.0</td>\n",
              "      <td>0.0</td>\n",
              "      <td>0.000000</td>\n",
              "      <td>0.000000</td>\n",
              "      <td>0.0</td>\n",
              "      <td>0.0</td>\n",
              "      <td>0.0</td>\n",
              "      <td>0.0</td>\n",
              "      <td>0.0</td>\n",
              "      <td>0.0</td>\n",
              "      <td>0.0</td>\n",
              "      <td>0.0</td>\n",
              "      <td>...</td>\n",
              "      <td>0.0</td>\n",
              "      <td>0.0</td>\n",
              "      <td>0.0</td>\n",
              "      <td>0.0</td>\n",
              "      <td>0.0</td>\n",
              "      <td>0.0</td>\n",
              "      <td>0.0</td>\n",
              "      <td>0.0</td>\n",
              "      <td>0.000000</td>\n",
              "      <td>0.0</td>\n",
              "      <td>0.0</td>\n",
              "      <td>0.0</td>\n",
              "      <td>0.0</td>\n",
              "      <td>0.0</td>\n",
              "      <td>0.0</td>\n",
              "      <td>0.0</td>\n",
              "      <td>0.0</td>\n",
              "      <td>0.000000</td>\n",
              "      <td>0.0</td>\n",
              "      <td>0.0</td>\n",
              "      <td>0.0</td>\n",
              "      <td>0.0</td>\n",
              "      <td>0.0</td>\n",
              "      <td>0.0</td>\n",
              "      <td>0.0</td>\n",
              "      <td>0.0</td>\n",
              "      <td>0.0</td>\n",
              "      <td>0.0</td>\n",
              "      <td>0.0</td>\n",
              "      <td>0.0</td>\n",
              "      <td>0.0</td>\n",
              "      <td>0.0</td>\n",
              "      <td>0.0</td>\n",
              "      <td>0.0</td>\n",
              "      <td>0.0</td>\n",
              "      <td>0.0</td>\n",
              "      <td>0.0</td>\n",
              "      <td>0.0</td>\n",
              "      <td>0.0</td>\n",
              "      <td>0.0</td>\n",
              "    </tr>\n",
              "    <tr>\n",
              "      <th>1</th>\n",
              "      <td>0.0</td>\n",
              "      <td>0.0</td>\n",
              "      <td>0.0</td>\n",
              "      <td>0.0</td>\n",
              "      <td>0.0</td>\n",
              "      <td>0.0</td>\n",
              "      <td>0.0</td>\n",
              "      <td>0.0</td>\n",
              "      <td>0.0</td>\n",
              "      <td>0.0</td>\n",
              "      <td>0.0</td>\n",
              "      <td>0.266671</td>\n",
              "      <td>0.0</td>\n",
              "      <td>0.000000</td>\n",
              "      <td>0.0</td>\n",
              "      <td>0.0</td>\n",
              "      <td>0.0</td>\n",
              "      <td>0.0</td>\n",
              "      <td>0.0</td>\n",
              "      <td>0.0</td>\n",
              "      <td>0.0</td>\n",
              "      <td>0.250339</td>\n",
              "      <td>0.0</td>\n",
              "      <td>0.0</td>\n",
              "      <td>0.0</td>\n",
              "      <td>0.0</td>\n",
              "      <td>0.0</td>\n",
              "      <td>0.0</td>\n",
              "      <td>0.0</td>\n",
              "      <td>0.0</td>\n",
              "      <td>0.000000</td>\n",
              "      <td>0.000000</td>\n",
              "      <td>0.0</td>\n",
              "      <td>0.0</td>\n",
              "      <td>0.0</td>\n",
              "      <td>0.0</td>\n",
              "      <td>0.0</td>\n",
              "      <td>0.0</td>\n",
              "      <td>0.0</td>\n",
              "      <td>0.0</td>\n",
              "      <td>...</td>\n",
              "      <td>0.0</td>\n",
              "      <td>0.0</td>\n",
              "      <td>0.0</td>\n",
              "      <td>0.0</td>\n",
              "      <td>0.0</td>\n",
              "      <td>0.0</td>\n",
              "      <td>0.0</td>\n",
              "      <td>0.0</td>\n",
              "      <td>0.000000</td>\n",
              "      <td>0.0</td>\n",
              "      <td>0.0</td>\n",
              "      <td>0.0</td>\n",
              "      <td>0.0</td>\n",
              "      <td>0.0</td>\n",
              "      <td>0.0</td>\n",
              "      <td>0.0</td>\n",
              "      <td>0.0</td>\n",
              "      <td>0.000000</td>\n",
              "      <td>0.0</td>\n",
              "      <td>0.0</td>\n",
              "      <td>0.0</td>\n",
              "      <td>0.0</td>\n",
              "      <td>0.0</td>\n",
              "      <td>0.0</td>\n",
              "      <td>0.0</td>\n",
              "      <td>0.0</td>\n",
              "      <td>0.0</td>\n",
              "      <td>0.0</td>\n",
              "      <td>0.0</td>\n",
              "      <td>0.0</td>\n",
              "      <td>0.0</td>\n",
              "      <td>0.0</td>\n",
              "      <td>0.0</td>\n",
              "      <td>0.0</td>\n",
              "      <td>0.0</td>\n",
              "      <td>0.0</td>\n",
              "      <td>0.0</td>\n",
              "      <td>0.0</td>\n",
              "      <td>0.0</td>\n",
              "      <td>0.0</td>\n",
              "    </tr>\n",
              "    <tr>\n",
              "      <th>2</th>\n",
              "      <td>0.0</td>\n",
              "      <td>0.0</td>\n",
              "      <td>0.0</td>\n",
              "      <td>0.0</td>\n",
              "      <td>0.0</td>\n",
              "      <td>0.0</td>\n",
              "      <td>0.0</td>\n",
              "      <td>0.0</td>\n",
              "      <td>0.0</td>\n",
              "      <td>0.0</td>\n",
              "      <td>0.0</td>\n",
              "      <td>0.117752</td>\n",
              "      <td>0.0</td>\n",
              "      <td>0.000000</td>\n",
              "      <td>0.0</td>\n",
              "      <td>0.0</td>\n",
              "      <td>0.0</td>\n",
              "      <td>0.0</td>\n",
              "      <td>0.0</td>\n",
              "      <td>0.0</td>\n",
              "      <td>0.0</td>\n",
              "      <td>0.000000</td>\n",
              "      <td>0.0</td>\n",
              "      <td>0.0</td>\n",
              "      <td>0.0</td>\n",
              "      <td>0.0</td>\n",
              "      <td>0.0</td>\n",
              "      <td>0.0</td>\n",
              "      <td>0.0</td>\n",
              "      <td>0.0</td>\n",
              "      <td>0.000000</td>\n",
              "      <td>0.000000</td>\n",
              "      <td>0.0</td>\n",
              "      <td>0.0</td>\n",
              "      <td>0.0</td>\n",
              "      <td>0.0</td>\n",
              "      <td>0.0</td>\n",
              "      <td>0.0</td>\n",
              "      <td>0.0</td>\n",
              "      <td>0.0</td>\n",
              "      <td>...</td>\n",
              "      <td>0.0</td>\n",
              "      <td>0.0</td>\n",
              "      <td>0.0</td>\n",
              "      <td>0.0</td>\n",
              "      <td>0.0</td>\n",
              "      <td>0.0</td>\n",
              "      <td>0.0</td>\n",
              "      <td>0.0</td>\n",
              "      <td>0.000000</td>\n",
              "      <td>0.0</td>\n",
              "      <td>0.0</td>\n",
              "      <td>0.0</td>\n",
              "      <td>0.0</td>\n",
              "      <td>0.0</td>\n",
              "      <td>0.0</td>\n",
              "      <td>0.0</td>\n",
              "      <td>0.0</td>\n",
              "      <td>0.000000</td>\n",
              "      <td>0.0</td>\n",
              "      <td>0.0</td>\n",
              "      <td>0.0</td>\n",
              "      <td>0.0</td>\n",
              "      <td>0.0</td>\n",
              "      <td>0.0</td>\n",
              "      <td>0.0</td>\n",
              "      <td>0.0</td>\n",
              "      <td>0.0</td>\n",
              "      <td>0.0</td>\n",
              "      <td>0.0</td>\n",
              "      <td>0.0</td>\n",
              "      <td>0.0</td>\n",
              "      <td>0.0</td>\n",
              "      <td>0.0</td>\n",
              "      <td>0.0</td>\n",
              "      <td>0.0</td>\n",
              "      <td>0.0</td>\n",
              "      <td>0.0</td>\n",
              "      <td>0.0</td>\n",
              "      <td>0.0</td>\n",
              "      <td>0.0</td>\n",
              "    </tr>\n",
              "    <tr>\n",
              "      <th>3</th>\n",
              "      <td>0.0</td>\n",
              "      <td>0.0</td>\n",
              "      <td>0.0</td>\n",
              "      <td>0.0</td>\n",
              "      <td>0.0</td>\n",
              "      <td>0.0</td>\n",
              "      <td>0.0</td>\n",
              "      <td>0.0</td>\n",
              "      <td>0.0</td>\n",
              "      <td>0.0</td>\n",
              "      <td>0.0</td>\n",
              "      <td>0.000000</td>\n",
              "      <td>0.0</td>\n",
              "      <td>0.000000</td>\n",
              "      <td>0.0</td>\n",
              "      <td>0.0</td>\n",
              "      <td>0.0</td>\n",
              "      <td>0.0</td>\n",
              "      <td>0.0</td>\n",
              "      <td>0.0</td>\n",
              "      <td>0.0</td>\n",
              "      <td>0.000000</td>\n",
              "      <td>0.0</td>\n",
              "      <td>0.0</td>\n",
              "      <td>0.0</td>\n",
              "      <td>0.0</td>\n",
              "      <td>0.0</td>\n",
              "      <td>0.0</td>\n",
              "      <td>0.0</td>\n",
              "      <td>0.0</td>\n",
              "      <td>0.116413</td>\n",
              "      <td>0.000000</td>\n",
              "      <td>0.0</td>\n",
              "      <td>0.0</td>\n",
              "      <td>0.0</td>\n",
              "      <td>0.0</td>\n",
              "      <td>0.0</td>\n",
              "      <td>0.0</td>\n",
              "      <td>0.0</td>\n",
              "      <td>0.0</td>\n",
              "      <td>...</td>\n",
              "      <td>0.0</td>\n",
              "      <td>0.0</td>\n",
              "      <td>0.0</td>\n",
              "      <td>0.0</td>\n",
              "      <td>0.0</td>\n",
              "      <td>0.0</td>\n",
              "      <td>0.0</td>\n",
              "      <td>0.0</td>\n",
              "      <td>0.256404</td>\n",
              "      <td>0.0</td>\n",
              "      <td>0.0</td>\n",
              "      <td>0.0</td>\n",
              "      <td>0.0</td>\n",
              "      <td>0.0</td>\n",
              "      <td>0.0</td>\n",
              "      <td>0.0</td>\n",
              "      <td>0.0</td>\n",
              "      <td>0.121714</td>\n",
              "      <td>0.0</td>\n",
              "      <td>0.0</td>\n",
              "      <td>0.0</td>\n",
              "      <td>0.0</td>\n",
              "      <td>0.0</td>\n",
              "      <td>0.0</td>\n",
              "      <td>0.0</td>\n",
              "      <td>0.0</td>\n",
              "      <td>0.0</td>\n",
              "      <td>0.0</td>\n",
              "      <td>0.0</td>\n",
              "      <td>0.0</td>\n",
              "      <td>0.0</td>\n",
              "      <td>0.0</td>\n",
              "      <td>0.0</td>\n",
              "      <td>0.0</td>\n",
              "      <td>0.0</td>\n",
              "      <td>0.0</td>\n",
              "      <td>0.0</td>\n",
              "      <td>0.0</td>\n",
              "      <td>0.0</td>\n",
              "      <td>0.0</td>\n",
              "    </tr>\n",
              "    <tr>\n",
              "      <th>4</th>\n",
              "      <td>0.0</td>\n",
              "      <td>0.0</td>\n",
              "      <td>0.0</td>\n",
              "      <td>0.0</td>\n",
              "      <td>0.0</td>\n",
              "      <td>0.0</td>\n",
              "      <td>0.0</td>\n",
              "      <td>0.0</td>\n",
              "      <td>0.0</td>\n",
              "      <td>0.0</td>\n",
              "      <td>0.0</td>\n",
              "      <td>0.000000</td>\n",
              "      <td>0.0</td>\n",
              "      <td>0.117435</td>\n",
              "      <td>0.0</td>\n",
              "      <td>0.0</td>\n",
              "      <td>0.0</td>\n",
              "      <td>0.0</td>\n",
              "      <td>0.0</td>\n",
              "      <td>0.0</td>\n",
              "      <td>0.0</td>\n",
              "      <td>0.000000</td>\n",
              "      <td>0.0</td>\n",
              "      <td>0.0</td>\n",
              "      <td>0.0</td>\n",
              "      <td>0.0</td>\n",
              "      <td>0.0</td>\n",
              "      <td>0.0</td>\n",
              "      <td>0.0</td>\n",
              "      <td>0.0</td>\n",
              "      <td>0.000000</td>\n",
              "      <td>0.117435</td>\n",
              "      <td>0.0</td>\n",
              "      <td>0.0</td>\n",
              "      <td>0.0</td>\n",
              "      <td>0.0</td>\n",
              "      <td>0.0</td>\n",
              "      <td>0.0</td>\n",
              "      <td>0.0</td>\n",
              "      <td>0.0</td>\n",
              "      <td>...</td>\n",
              "      <td>0.0</td>\n",
              "      <td>0.0</td>\n",
              "      <td>0.0</td>\n",
              "      <td>0.0</td>\n",
              "      <td>0.0</td>\n",
              "      <td>0.0</td>\n",
              "      <td>0.0</td>\n",
              "      <td>0.0</td>\n",
              "      <td>0.000000</td>\n",
              "      <td>0.0</td>\n",
              "      <td>0.0</td>\n",
              "      <td>0.0</td>\n",
              "      <td>0.0</td>\n",
              "      <td>0.0</td>\n",
              "      <td>0.0</td>\n",
              "      <td>0.0</td>\n",
              "      <td>0.0</td>\n",
              "      <td>0.000000</td>\n",
              "      <td>0.0</td>\n",
              "      <td>0.0</td>\n",
              "      <td>0.0</td>\n",
              "      <td>0.0</td>\n",
              "      <td>0.0</td>\n",
              "      <td>0.0</td>\n",
              "      <td>0.0</td>\n",
              "      <td>0.0</td>\n",
              "      <td>0.0</td>\n",
              "      <td>0.0</td>\n",
              "      <td>0.0</td>\n",
              "      <td>0.0</td>\n",
              "      <td>0.0</td>\n",
              "      <td>0.0</td>\n",
              "      <td>0.0</td>\n",
              "      <td>0.0</td>\n",
              "      <td>0.0</td>\n",
              "      <td>0.0</td>\n",
              "      <td>0.0</td>\n",
              "      <td>0.0</td>\n",
              "      <td>0.0</td>\n",
              "      <td>0.0</td>\n",
              "    </tr>\n",
              "  </tbody>\n",
              "</table>\n",
              "<p>5 rows × 797 columns</p>\n",
              "</div>"
            ],
            "text/plain": [
              "    ac  acceler  accuraci  achiev  across  act  ...   μf   μm   νl   ωc   ωm   ωo\n",
              "0  0.0      0.0       0.0     0.0     0.0  0.0  ...  0.0  0.0  0.0  0.0  0.0  0.0\n",
              "1  0.0      0.0       0.0     0.0     0.0  0.0  ...  0.0  0.0  0.0  0.0  0.0  0.0\n",
              "2  0.0      0.0       0.0     0.0     0.0  0.0  ...  0.0  0.0  0.0  0.0  0.0  0.0\n",
              "3  0.0      0.0       0.0     0.0     0.0  0.0  ...  0.0  0.0  0.0  0.0  0.0  0.0\n",
              "4  0.0      0.0       0.0     0.0     0.0  0.0  ...  0.0  0.0  0.0  0.0  0.0  0.0\n",
              "\n",
              "[5 rows x 797 columns]"
            ]
          },
          "metadata": {
            "tags": []
          },
          "execution_count": 209
        }
      ]
    },
    {
      "cell_type": "code",
      "metadata": {
        "id": "IE1qkfEeOoST",
        "colab_type": "code",
        "colab": {}
      },
      "source": [
        "# questions_tfidf.columns\n",
        "# import seaborn as sns\n",
        "# sns.set(style=\"darkgrid\")\n",
        "# titanic = sns.load_dataset(\"data\")\n",
        "# ax = sns.countplot(x=data[\"Questions\"], data=titanic)\n",
        "import matplotlib.pyplot as plt\n",
        "import seaborn as sns\n",
        "def plot_word_frequency(words, top_n=10):\n",
        "    word_freq = FreqDist(words)\n",
        "    labels = [element[0] for element in word_freq.most_common(top_n)]\n",
        "    counts = [element[1] for element in word_freq.most_common(top_n)]\n",
        "    # plt.figure(figsize=(15,12))\n",
        "    plot = sns.barplot(labels, counts)\n",
        "    return plot\n",
        "\n",
        "\n"
      ],
      "execution_count": 0,
      "outputs": []
    },
    {
      "cell_type": "code",
      "metadata": {
        "id": "l1zNIZR9R7K9",
        "colab_type": "code",
        "colab": {
          "base_uri": "https://localhost:8080/",
          "height": 286
        },
        "outputId": "1c1a0939-ab07-4e20-9fda-f271c5621398"
      },
      "source": [
        "words = list(data.Topic)\n",
        "string = \" \".join(words)\n",
        "string = string.lower()\n",
        "plot_words = string.split()\n",
        "plot_word_frequency(plot_words, 15)"
      ],
      "execution_count": 211,
      "outputs": [
        {
          "output_type": "execute_result",
          "data": {
            "text/plain": [
              "<matplotlib.axes._subplots.AxesSubplot at 0x7fe6269343c8>"
            ]
          },
          "metadata": {
            "tags": []
          },
          "execution_count": 211
        },
        {
          "output_type": "display_data",
          "data": {
            "image/png": "[encoded data removed]",
            "text/plain": [
              "<Figure size 432x288 with 1 Axes>"
            ]
          },
          "metadata": {
            "tags": []
          }
        }
      ]
    },
    {
      "cell_type": "code",
      "metadata": {
        "id": "3nGdh2eLR7m8",
        "colab_type": "code",
        "colab": {
          "base_uri": "https://localhost:8080/",
          "height": 286
        },
        "outputId": "bcc9108c-b2a1-4a57-f29d-0664af0510ad"
      },
      "source": [
        "\n",
        "no_stop = [word for word in plot_words if word not in stopwords.words('english')]\n",
        "plot_word_frequency(no_stop,8)"
      ],
      "execution_count": 212,
      "outputs": [
        {
          "output_type": "execute_result",
          "data": {
            "text/plain": [
              "<matplotlib.axes._subplots.AxesSubplot at 0x7fe626d53860>"
            ]
          },
          "metadata": {
            "tags": []
          },
          "execution_count": 212
        },
        {
          "output_type": "display_data",
          "data": {
            "image/png": "[encoded data removed]",
            "text/plain": [
              "<Figure size 432x288 with 1 Axes>"
            ]
          },
          "metadata": {
            "tags": []
          }
        }
      ]
    },
    {
      "cell_type": "markdown",
      "metadata": {
        "id": "lTAfJnXXPy5p",
        "colab_type": "text"
      },
      "source": [
        "<img src=\"\"/>"
      ]
    },
    {
      "cell_type": "code",
      "metadata": {
        "id": "rO11kA6A9gA1",
        "colab_type": "code",
        "outputId": "0275264b-4c10-4b75-db51-078bd3926841",
        "colab": {
          "base_uri": "https://localhost:8080/",
          "height": 34
        }
      },
      "source": [
        "from sklearn.preprocessing import LabelEncoder\n",
        "from sklearn.model_selection import train_test_split\n",
        "\n",
        "train_x, valid_x, train_y, valid_y = train_test_split(data['Questions'], data['Topic'], random_state=100)\n",
        "\n",
        "# label encode the target variable here it is topic\n",
        "encoder = LabelEncoder()\n",
        "train_y = encoder.fit_transform(train_y)\n",
        "valid_y = encoder.fit_transform(valid_y)\n",
        "np.unique(train_y)"
      ],
      "execution_count": 213,
      "outputs": [
        {
          "output_type": "execute_result",
          "data": {
            "text/plain": [
              "array([0, 1, 2, 3, 4])"
            ]
          },
          "metadata": {
            "tags": []
          },
          "execution_count": 213
        }
      ]
    },
    {
      "cell_type": "markdown",
      "metadata": {
        "id": "I0pcSsKLC8VX",
        "colab_type": "text"
      },
      "source": [
        "# Count Vectors as features"
      ]
    },
    {
      "cell_type": "code",
      "metadata": {
        "id": "HFJ3e8oVC_PD",
        "colab_type": "code",
        "colab": {}
      },
      "source": [
        "# create a CountVectorizer object\n",
        "from sklearn.feature_extraction.text import CountVectorizer\n",
        "count_vect = CountVectorizer()\n",
        "count_vect.fit(data['Questions'])\n",
        "\n",
        "# transform the training and validation data using count vectorizer object\n",
        "xtrain_count = count_vect.transform(train_x)\n",
        "xvalid_count = count_vect.transform(valid_x)"
      ],
      "execution_count": 0,
      "outputs": []
    },
    {
      "cell_type": "code",
      "metadata": {
        "id": "7AaJar-eD1Ng",
        "colab_type": "code",
        "outputId": "9ca40e92-c065-4b3e-ff25-b8f9c918bcad",
        "colab": {
          "base_uri": "https://localhost:8080/",
          "height": 51
        }
      },
      "source": [
        "print(type(xtrain_count))\n",
        "print(xtrain_count.shape)"
      ],
      "execution_count": 215,
      "outputs": [
        {
          "output_type": "stream",
          "text": [
            "<class 'scipy.sparse.csr.csr_matrix'>\n",
            "(90, 867)\n"
          ],
          "name": "stdout"
        }
      ]
    },
    {
      "cell_type": "markdown",
      "metadata": {
        "id": "6OU_LJYZEmvv",
        "colab_type": "text"
      },
      "source": [
        "# Tf-Idf Vectors as features\n",
        "![tf_idf](https://skymind.ai/images/wiki/tfidf.png)\n",
        "\n",
        "\n",
        "---\n",
        "\n",
        "\n",
        "\n",
        "---\n",
        "\n"
      ]
    },
    {
      "cell_type": "code",
      "metadata": {
        "id": "Ql-WVHN8Eq5i",
        "colab_type": "code",
        "colab": {}
      },
      "source": [
        "# word level tf-idf\n",
        "\n",
        "tfidf_vect = TfidfVectorizer(analyzer = 'word', token_pattern='w{1,}', max_features = 1000)\n",
        "tfidf_vect.fit(data['Questions'])\n",
        "\n",
        "xtrain_tfidf = tfidf_vect.transform(train_x)\n",
        "xvalid_tfidf = tfidf_vect.transform(valid_x)\n",
        "\n",
        "\n",
        "# ngram level tf-idf\n",
        "tfidf_vect_ngram = TfidfVectorizer(analyzer = 'word', token_pattern = '\\w{1,}', ngram_range=(2, 3), max_features = 1000)\n",
        "\n",
        "tfidf_vect_ngram.fit(data['Questions'])\n",
        "xtrain_tfidf_ngram = tfidf_vect_ngram.transform(train_x)\n",
        "xvalid_tfidf_ngram = tfidf_vect_ngram.transform(valid_x)\n",
        "\n",
        "\n",
        "# characters level tf-idf\n",
        "tfidf_vect_ngram_chars = TfidfVectorizer(analyzer='char', token_pattern='\\w{1,}', ngram_range=(2,3), max_features = 1000)\n",
        "\n",
        "tfidf_vect_ngram_chars.fit(data['Questions'])\n",
        "\n",
        "xtrain_tfidf_ngram_chars = tfidf_vect_ngram_chars.transform(train_x)\n",
        "xvalid_tfidf_ngram_chars = tfidf_vect_ngram_chars.transform(valid_x)\n"
      ],
      "execution_count": 0,
      "outputs": []
    },
    {
      "cell_type": "markdown",
      "metadata": {
        "id": "v5cI4PEgJycl",
        "colab_type": "text"
      },
      "source": [
        "# Model Building"
      ]
    },
    {
      "cell_type": "code",
      "metadata": {
        "id": "62dPl5aGJ1vC",
        "colab_type": "code",
        "colab": {}
      },
      "source": [
        "\n",
        "from sklearn import linear_model, naive_bayes, metrics, svm\n",
        "\n",
        "\n",
        "def train_model(classifier, feature_vector_train, label, feature_vector_valid):\n",
        "\n",
        "  # fit the training dataset on the classifier\n",
        "  classifier.fit(feature_vector_train, label)\n",
        "\n",
        "  # predict the labels on validation dataset\n",
        "  predictions = classifier.predict(feature_vector_valid)\n",
        "\n",
        "  return metrics.accuracy_score(predictions, valid_y)"
      ],
      "execution_count": 0,
      "outputs": []
    },
    {
      "cell_type": "markdown",
      "metadata": {
        "id": "nIXmCYtdKcBh",
        "colab_type": "text"
      },
      "source": [
        "# Naive Bayes"
      ]
    },
    {
      "cell_type": "code",
      "metadata": {
        "id": "MC-po2cEKdwB",
        "colab_type": "code",
        "outputId": "429b42da-990f-45ec-a594-b22c9123dc45",
        "colab": {
          "base_uri": "https://localhost:8080/",
          "height": 85
        }
      },
      "source": [
        "# Naive Bayes on Count Vectors\n",
        "accuracy = train_model(naive_bayes.MultinomialNB(), xtrain_count, train_y, xvalid_count)\n",
        "print(\"NB, Count Vectors: \", accuracy)\n",
        "\n",
        "\n",
        "# Naive Bayes on Word Level Tf-Idf Vectors\n",
        "accuracy = train_model(naive_bayes.MultinomialNB(), xtrain_tfidf, train_y, xvalid_tfidf)\n",
        "print(\"NB, WordLevel Tf-Idf: \", accuracy)\n",
        "\n",
        "# Naive Bayes on Ngram Level Tf-Idf Vectors\n",
        "accuracy = train_model(naive_bayes.MultinomialNB(), xtrain_tfidf_ngram, train_y, xvalid_tfidf_ngram)\n",
        "print(\"NB, N-Gram Vectors: \", accuracy)\n",
        "\n",
        "# Naive Bayes on Character level Tf-Idf Vectors\n",
        "accuracy = train_model(naive_bayes.MultinomialNB(), xtrain_tfidf_ngram_chars, train_y, xvalid_tfidf_ngram_chars)\n",
        "print(\"NB, Character Level Vectors: \", accuracy)"
      ],
      "execution_count": 218,
      "outputs": [
        {
          "output_type": "stream",
          "text": [
            "NB, Count Vectors:  0.8333333333333334\n",
            "NB, WordLevel Tf-Idf:  0.36666666666666664\n",
            "NB, N-Gram Vectors:  0.43333333333333335\n",
            "NB, Character Level Vectors:  0.7\n"
          ],
          "name": "stdout"
        }
      ]
    },
    {
      "cell_type": "markdown",
      "metadata": {
        "id": "MsSVbc0SCTkR",
        "colab_type": "text"
      },
      "source": [
        "# Logistic Regression"
      ]
    },
    {
      "cell_type": "code",
      "metadata": {
        "id": "0n3PiEYMCWs3",
        "colab_type": "code",
        "outputId": "a8acf1a9-6681-4c85-e749-282a84caec7d",
        "colab": {
          "base_uri": "https://localhost:8080/",
          "height": 85
        }
      },
      "source": [
        "# Logistic Regression on Count Vectors\n",
        "accuracy = train_model(linear_model.LogisticRegression(), xtrain_count, train_y, xvalid_count)\n",
        "print(\"LR, Count Vectors: \", accuracy)\n",
        "\n",
        "# Logistic Regression on Word Level Tf-Idf Vectors\n",
        "accuracy = train_model(linear_model.LogisticRegression(), xtrain_tfidf, train_y, xvalid_tfidf)\n",
        "print(\"LR, WordLevel Tf-Idf: \", accuracy)\n",
        "\n",
        "# Logistic Regression on Ngram Level Tf-Idf Vectors\n",
        "accuracy = train_model(linear_model.LogisticRegression(), xtrain_tfidf_ngram, train_y, xvalid_tfidf_ngram)\n",
        "print(\"LR, N-Gram Vectors: \", accuracy)\n",
        "\n",
        "# Logistic Regression on Character level Tf-Idf Vectors\n",
        "accuracy = train_model(linear_model.LogisticRegression(), xtrain_tfidf_ngram_chars, train_y, xvalid_tfidf_ngram_chars)\n",
        "print(\"LR, Character Level Vectors: \", accuracy)"
      ],
      "execution_count": 219,
      "outputs": [
        {
          "output_type": "stream",
          "text": [
            "LR, Count Vectors:  0.8\n",
            "LR, WordLevel Tf-Idf:  0.36666666666666664\n",
            "LR, N-Gram Vectors:  0.4\n",
            "LR, Character Level Vectors:  0.6333333333333333\n"
          ],
          "name": "stdout"
        }
      ]
    },
    {
      "cell_type": "code",
      "metadata": {
        "id": "eG-yuIuS3d9q",
        "colab_type": "code",
        "colab": {
          "base_uri": "https://localhost:8080/",
          "height": 85
        },
        "outputId": "1cd45f7a-4141-4e99-ccaa-4a30cb0638da"
      },
      "source": [
        " from sklearn import svm\n",
        "\n",
        "# Support Vector Machine on Count Vectors\n",
        "accuracy = train_model( svm.SVC(), xtrain_count, train_y, xvalid_count)\n",
        "print(\"LR, Count Vectors: \", accuracy)\n",
        "\n",
        "# Support Vector Machine on Word Level Tf-Idf Vectors\n",
        "accuracy = train_model( svm.SVC(), xtrain_tfidf, train_y, xvalid_tfidf)\n",
        "print(\"LR, WordLevel Tf-Idf: \", accuracy)\n",
        "\n",
        "# Support Vector Machine on Ngram Level Tf-Idf Vectors\n",
        "accuracy = train_model( svm.SVC(), xtrain_tfidf_ngram, train_y, xvalid_tfidf_ngram)\n",
        "print(\"LR, N-Gram Vectors: \", accuracy)\n",
        "\n",
        "# Support Vector Machine on Character level Tf-Idf Vectors\n",
        "accuracy = train_model( svm.SVC(), xtrain_tfidf_ngram_chars, train_y, xvalid_tfidf_ngram_chars)\n",
        "print(\"LR, Character Level Vectors: \", accuracy)"
      ],
      "execution_count": 220,
      "outputs": [
        {
          "output_type": "stream",
          "text": [
            "LR, Count Vectors:  0.36666666666666664\n",
            "LR, WordLevel Tf-Idf:  0.36666666666666664\n",
            "LR, N-Gram Vectors:  0.36666666666666664\n",
            "LR, Character Level Vectors:  0.36666666666666664\n"
          ],
          "name": "stdout"
        }
      ]
    },
    {
      "cell_type": "code",
      "metadata": {
        "id": "QHjafrAn4-T-",
        "colab_type": "code",
        "colab": {
          "base_uri": "https://localhost:8080/",
          "height": 85
        },
        "outputId": "b87dde13-6dfc-4aaa-9501-39f91497a6d7"
      },
      "source": [
        " \n",
        "from sklearn import ensemble\n",
        "# Support Vector Machine on Count Vectors\n",
        "accuracy = train_model( ensemble.RandomForestClassifier(), xtrain_count, train_y, xvalid_count)\n",
        "print(\"LR, Count Vectors: \", accuracy)\n",
        "\n",
        "# Support Vector Machine on Word Level Tf-Idf Vectors\n",
        "accuracy = train_model( ensemble.RandomForestClassifier(), xtrain_tfidf, train_y, xvalid_tfidf)\n",
        "print(\"LR, WordLevel Tf-Idf: \", accuracy)\n",
        "\n",
        "# Support Vector Machine on Ngram Level Tf-Idf Vectors\n",
        "accuracy = train_model( ensemble.RandomForestClassifier(), xtrain_tfidf_ngram, train_y, xvalid_tfidf_ngram)\n",
        "print(\"LR, N-Gram Vectors: \", accuracy)\n",
        "\n",
        "# Support Vector Machine on Character level Tf-Idf Vectors\n",
        "accuracy = train_model(ensemble.RandomForestClassifier(), xtrain_tfidf_ngram_chars, train_y, xvalid_tfidf_ngram_chars)\n",
        "print(\"LR, Character Level Vectors: \", accuracy)"
      ],
      "execution_count": 221,
      "outputs": [
        {
          "output_type": "stream",
          "text": [
            "LR, Count Vectors:  0.6\n",
            "LR, WordLevel Tf-Idf:  0.36666666666666664\n",
            "LR, N-Gram Vectors:  0.4666666666666667\n",
            "LR, Character Level Vectors:  0.5666666666666667\n"
          ],
          "name": "stdout"
        }
      ]
    }
  ]
}